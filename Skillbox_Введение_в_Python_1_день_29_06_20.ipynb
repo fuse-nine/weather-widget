{
  "nbformat": 4,
  "nbformat_minor": 0,
  "metadata": {
    "colab": {
      "name": "Skillbox Введение в Python - 1 день 29-06-20",
      "provenance": [],
      "collapsed_sections": [],
      "include_colab_link": true
    },
    "kernelspec": {
      "name": "python3",
      "display_name": "Python 3"
    }
  },
  "cells": [
    {
      "cell_type": "markdown",
      "metadata": {
        "id": "view-in-github",
        "colab_type": "text"
      },
      "source": [
        "<a href=\"https://colab.research.google.com/github/fuse-nine/weather-widget/blob/master/Skillbox_%D0%92%D0%B2%D0%B5%D0%B4%D0%B5%D0%BD%D0%B8%D0%B5_%D0%B2_Python_1_%D0%B4%D0%B5%D0%BD%D1%8C_29_06_20.ipynb\" target=\"_parent\"><img src=\"https://colab.research.google.com/assets/colab-badge.svg\" alt=\"Open In Colab\"/></a>"
      ]
    },
    {
      "cell_type": "markdown",
      "metadata": {
        "id": "rR0Q86-INvMR",
        "colab_type": "text"
      },
      "source": [
        "Данные взяты с сайта https://rp5.ru/Погода_в_Москве_(ВДНХ)\n",
        "\n",
        "Ссылка на уже скачанный датасет  https://github.com/anastasiarazb/skillbox_nlp_demo/blob/master/Мск_5лет.xls?raw=true\n"
      ]
    },
    {
      "cell_type": "code",
      "metadata": {
        "id": "wAPoW2M3-hLB",
        "colab_type": "code",
        "colab": {}
      },
      "source": [
        "x = 5"
      ],
      "execution_count": null,
      "outputs": []
    },
    {
      "cell_type": "code",
      "metadata": {
        "id": "p3DT7jrR-oft",
        "colab_type": "code",
        "colab": {
          "base_uri": "https://localhost:8080/",
          "height": 34
        },
        "outputId": "14fa3542-660a-4cbf-a514-559706c338e5"
      },
      "source": [
        "print(x)"
      ],
      "execution_count": null,
      "outputs": [
        {
          "output_type": "stream",
          "text": [
            "5\n"
          ],
          "name": "stdout"
        }
      ]
    },
    {
      "cell_type": "code",
      "metadata": {
        "id": "N-sjkD9h-p6K",
        "colab_type": "code",
        "colab": {
          "base_uri": "https://localhost:8080/",
          "height": 34
        },
        "outputId": "e9a06156-e439-401b-eba8-ceb33e8464ea"
      },
      "source": [
        "# комментарий начинается со знака решетки и продолжается до конца строки\n",
        "# разные типы данных:\n",
        "x = 4.45432\n",
        "y = 'это строка'\n",
        "z = \"это тоже\"\n",
        "# если какое-то выражение идет последним в ячейке = оператор print\n",
        "x + 3.1416"
      ],
      "execution_count": null,
      "outputs": [
        {
          "output_type": "execute_result",
          "data": {
            "text/plain": [
              "7.59592"
            ]
          },
          "metadata": {
            "tags": []
          },
          "execution_count": 5
        }
      ]
    },
    {
      "cell_type": "code",
      "metadata": {
        "id": "amU-t-Vq_JHe",
        "colab_type": "code",
        "colab": {
          "base_uri": "https://localhost:8080/",
          "height": 35
        },
        "outputId": "9a2a3150-602a-448d-de32-2297d7f01012"
      },
      "source": [
        "y + \" \" + z"
      ],
      "execution_count": null,
      "outputs": [
        {
          "output_type": "execute_result",
          "data": {
            "application/vnd.google.colaboratory.intrinsic": {
              "type": "string"
            },
            "text/plain": [
              "'это строка это тоже'"
            ]
          },
          "metadata": {
            "tags": []
          },
          "execution_count": 6
        }
      ]
    },
    {
      "cell_type": "code",
      "metadata": {
        "id": "iS8dO9Dm_Tt2",
        "colab_type": "code",
        "colab": {
          "base_uri": "https://localhost:8080/",
          "height": 34
        },
        "outputId": "863e8a1f-0ca1-41e7-e79b-5f04170f4e32"
      },
      "source": [
        "x2 = 5\n",
        "x > x2, x < x2, x == x2, x != x2"
      ],
      "execution_count": null,
      "outputs": [
        {
          "output_type": "execute_result",
          "data": {
            "text/plain": [
              "(False, True, False, True)"
            ]
          },
          "metadata": {
            "tags": []
          },
          "execution_count": 7
        }
      ]
    },
    {
      "cell_type": "code",
      "metadata": {
        "id": "hgewC97B_dgI",
        "colab_type": "code",
        "colab": {}
      },
      "source": [
        "# тип данных True False\n",
        "true = True\n",
        "# Python различает регистр!"
      ],
      "execution_count": null,
      "outputs": []
    },
    {
      "cell_type": "code",
      "metadata": {
        "id": "GWxRrmaV_rGz",
        "colab_type": "code",
        "colab": {}
      },
      "source": [
        "# тип данных - пустота\n",
        "empty = None"
      ],
      "execution_count": null,
      "outputs": []
    },
    {
      "cell_type": "code",
      "metadata": {
        "id": "B5ehCXLw_-mx",
        "colab_type": "code",
        "colab": {
          "base_uri": "https://localhost:8080/",
          "height": 167
        },
        "outputId": "8086d7fd-35e1-42ca-f250-1bb7c17c35a8"
      },
      "source": [
        "# Ошибка - нельзя складывать число и строку\n",
        "x + z"
      ],
      "execution_count": null,
      "outputs": [
        {
          "output_type": "error",
          "ename": "TypeError",
          "evalue": "ignored",
          "traceback": [
            "\u001b[0;31m---------------------------------------------------------------------------\u001b[0m",
            "\u001b[0;31mTypeError\u001b[0m                                 Traceback (most recent call last)",
            "\u001b[0;32m<ipython-input-10-2d5f8479e2db>\u001b[0m in \u001b[0;36m<module>\u001b[0;34m()\u001b[0m\n\u001b[0;32m----> 1\u001b[0;31m \u001b[0mx\u001b[0m \u001b[0;34m+\u001b[0m \u001b[0mz\u001b[0m\u001b[0;34m\u001b[0m\u001b[0;34m\u001b[0m\u001b[0m\n\u001b[0m",
            "\u001b[0;31mTypeError\u001b[0m: unsupported operand type(s) for +: 'float' and 'str'"
          ]
        }
      ]
    },
    {
      "cell_type": "code",
      "metadata": {
        "id": "rw648XjbADuI",
        "colab_type": "code",
        "colab": {
          "base_uri": "https://localhost:8080/",
          "height": 185
        },
        "outputId": "58d24fbc-85b6-494e-b4bd-d1a9b5703331"
      },
      "source": [
        "# Ошибка - нельзя складывать что либо с пустым значением\n",
        "x + None"
      ],
      "execution_count": null,
      "outputs": [
        {
          "output_type": "error",
          "ename": "TypeError",
          "evalue": "ignored",
          "traceback": [
            "\u001b[0;31m---------------------------------------------------------------------------\u001b[0m",
            "\u001b[0;31mTypeError\u001b[0m                                 Traceback (most recent call last)",
            "\u001b[0;32m<ipython-input-11-195349799456>\u001b[0m in \u001b[0;36m<module>\u001b[0;34m()\u001b[0m\n\u001b[1;32m      1\u001b[0m \u001b[0;31m# Ошибка - нельзя складывать что либо с пустым значением\u001b[0m\u001b[0;34m\u001b[0m\u001b[0;34m\u001b[0m\u001b[0;34m\u001b[0m\u001b[0m\n\u001b[0;32m----> 2\u001b[0;31m \u001b[0mx\u001b[0m \u001b[0;34m+\u001b[0m \u001b[0;32mNone\u001b[0m\u001b[0;34m\u001b[0m\u001b[0;34m\u001b[0m\u001b[0m\n\u001b[0m",
            "\u001b[0;31mTypeError\u001b[0m: unsupported operand type(s) for +: 'float' and 'NoneType'"
          ]
        }
      ]
    },
    {
      "cell_type": "code",
      "metadata": {
        "id": "Z4SJNbfqANYv",
        "colab_type": "code",
        "colab": {
          "base_uri": "https://localhost:8080/",
          "height": 140
        },
        "outputId": "eede37b4-eada-4d47-df71-301a54fddd96"
      },
      "source": [
        "# составные типы данных - list\n",
        "array = [x, y, z, 4, None, True, 'разные типы данных в списке']\n",
        "array"
      ],
      "execution_count": null,
      "outputs": [
        {
          "output_type": "execute_result",
          "data": {
            "text/plain": [
              "[4.45432,\n",
              " 'это строка',\n",
              " 'это тоже',\n",
              " 4,\n",
              " None,\n",
              " True,\n",
              " 'разные типы данных в списке']"
            ]
          },
          "metadata": {
            "tags": []
          },
          "execution_count": 13
        }
      ]
    },
    {
      "cell_type": "code",
      "metadata": {
        "id": "KZUsmg1CAgzp",
        "colab_type": "code",
        "colab": {
          "base_uri": "https://localhost:8080/",
          "height": 140
        },
        "outputId": "07350a57-0ffb-4a0c-c7a9-45883acc5e86"
      },
      "source": [
        "# Цикл\n",
        "for element in array:\n",
        "    print(element)"
      ],
      "execution_count": null,
      "outputs": [
        {
          "output_type": "stream",
          "text": [
            "4.45432\n",
            "это строка\n",
            "это тоже\n",
            "4\n",
            "None\n",
            "True\n",
            "разные типы данных в списке\n"
          ],
          "name": "stdout"
        }
      ]
    },
    {
      "cell_type": "code",
      "metadata": {
        "id": "qYBO3HETArB4",
        "colab_type": "code",
        "colab": {
          "base_uri": "https://localhost:8080/",
          "height": 263
        },
        "outputId": "a257674e-10c5-43b9-9ad5-42479fac4252"
      },
      "source": [
        "for element in array:\n",
        "    print(element)\n",
        "    print(element)"
      ],
      "execution_count": null,
      "outputs": [
        {
          "output_type": "stream",
          "text": [
            "4.45432\n",
            "4.45432\n",
            "это строка\n",
            "это строка\n",
            "это тоже\n",
            "это тоже\n",
            "4\n",
            "4\n",
            "None\n",
            "None\n",
            "True\n",
            "True\n",
            "разные типы данных в списке\n",
            "разные типы данных в списке\n"
          ],
          "name": "stdout"
        }
      ]
    },
    {
      "cell_type": "code",
      "metadata": {
        "id": "D2hhpiG6Axzp",
        "colab_type": "code",
        "colab": {
          "base_uri": "https://localhost:8080/",
          "height": 34
        },
        "outputId": "4322a178-40b1-4d9f-c845-903776b2e708"
      },
      "source": [
        "# Условные операторы\n",
        "temp = 36.8\n",
        "if temp > 37.2:\n",
        "    print('Болен')  # исполняется, если результат условия = True\n",
        "else:\n",
        "    print('Здоров')  # исполняется, если результат условия = False"
      ],
      "execution_count": null,
      "outputs": [
        {
          "output_type": "stream",
          "text": [
            "Здоров\n"
          ],
          "name": "stdout"
        }
      ]
    },
    {
      "cell_type": "code",
      "metadata": {
        "id": "CV0HaN4fBCxZ",
        "colab_type": "code",
        "colab": {
          "base_uri": "https://localhost:8080/",
          "height": 132
        },
        "outputId": "8d2f9a57-e9a2-4408-a223-45410c4e7dc3"
      },
      "source": [
        "# Отсутуп - тоже часть синтаксиса\n",
        "# Логические блоки одного уровня имеют одинаковый отступ\n",
        "temp = 36.8\n",
        "if temp > 37.2:\n",
        "    print('Болен')  \n",
        "  else: # кривой отступ - ошибка\n",
        " print('Здоров')  # исполняется, если результат условия = False"
      ],
      "execution_count": null,
      "outputs": [
        {
          "output_type": "error",
          "ename": "IndentationError",
          "evalue": "ignored",
          "traceback": [
            "\u001b[0;36m  File \u001b[0;32m\"<ipython-input-19-06d952c5013e>\"\u001b[0;36m, line \u001b[0;32m5\u001b[0m\n\u001b[0;31m    else:\u001b[0m\n\u001b[0m         ^\u001b[0m\n\u001b[0;31mIndentationError\u001b[0m\u001b[0;31m:\u001b[0m unindent does not match any outer indentation level\n"
          ]
        }
      ]
    },
    {
      "cell_type": "code",
      "metadata": {
        "id": "bbQubUUEBpJR",
        "colab_type": "code",
        "colab": {}
      },
      "source": [
        "# Подключаем дополнительный пакет\n",
        "import matplotlib.pyplot as plt\n",
        "import pandas as pd\n",
        "# для отображения графиков\n",
        "%matplotlib inline"
      ],
      "execution_count": null,
      "outputs": []
    },
    {
      "cell_type": "code",
      "metadata": {
        "id": "K45yjBkJCYfY",
        "colab_type": "code",
        "colab": {
          "base_uri": "https://localhost:8080/",
          "height": 282
        },
        "outputId": "cef55f11-1c24-49a1-80ab-fbacb326c933"
      },
      "source": [
        "plt.plot([1, 2, 3], [5, 4, 7])  # на входе массив координат x и y"
      ],
      "execution_count": null,
      "outputs": [
        {
          "output_type": "execute_result",
          "data": {
            "text/plain": [
              "[<matplotlib.lines.Line2D at 0x7f08978b46a0>]"
            ]
          },
          "metadata": {
            "tags": []
          },
          "execution_count": 21
        },
        {
          "output_type": "display_data",
          "data": {
            "image/png": "[encoded data removed]",
            "text/plain": [
              "<Figure size 432x288 with 1 Axes>"
            ]
          },
          "metadata": {
            "tags": [],
            "needs_background": "light"
          }
        }
      ]
    },
    {
      "cell_type": "code",
      "metadata": {
        "id": "s1gh48qSClbl",
        "colab_type": "code",
        "colab": {
          "base_uri": "https://localhost:8080/",
          "height": 1000
        },
        "outputId": "5954305d-a80d-4f73-f442-c17b8871d4bc"
      },
      "source": [
        "data_path = \"https://github.com/anastasiarazb/skillbox_nlp_demo/blob/master/%D0%9C%D1%81%D0%BA_5%D0%BB%D0%B5%D1%82.xls?raw=true\"  # строка\n",
        "data = pd.read_excel(data_path, skiprows=6)\n",
        "# можно загрузить файл в облако с считать, передав имя в функцию pd.read_excel\n",
        "\n",
        "data"
      ],
      "execution_count": null,
      "outputs": [
        {
          "output_type": "execute_result",
          "data": {
            "text/html": [
              "<div>\n",
              "<style scoped>\n",
              "    .dataframe tbody tr th:only-of-type {\n",
              "        vertical-align: middle;\n",
              "    }\n",
              "\n",
              "    .dataframe tbody tr th {\n",
              "        vertical-align: top;\n",
              "    }\n",
              "\n",
              "    .dataframe thead th {\n",
              "        text-align: right;\n",
              "    }\n",
              "</style>\n",
              "<table border=\"1\" class=\"dataframe\">\n",
              "  <thead>\n",
              "    <tr style=\"text-align: right;\">\n",
              "      <th></th>\n",
              "      <th>Местное время в Москве (ВДНХ)</th>\n",
              "      <th>T</th>\n",
              "      <th>Po</th>\n",
              "      <th>P</th>\n",
              "      <th>Pa</th>\n",
              "      <th>U</th>\n",
              "      <th>DD</th>\n",
              "      <th>Ff</th>\n",
              "      <th>ff10</th>\n",
              "      <th>ff3</th>\n",
              "      <th>N</th>\n",
              "      <th>WW</th>\n",
              "      <th>W1</th>\n",
              "      <th>W2</th>\n",
              "      <th>Tn</th>\n",
              "      <th>Tx</th>\n",
              "      <th>Cl</th>\n",
              "      <th>Nh</th>\n",
              "      <th>H</th>\n",
              "      <th>Cm</th>\n",
              "      <th>Ch</th>\n",
              "      <th>VV</th>\n",
              "      <th>Td</th>\n",
              "      <th>RRR</th>\n",
              "      <th>tR</th>\n",
              "      <th>E</th>\n",
              "      <th>Tg</th>\n",
              "      <th>E'</th>\n",
              "      <th>sss</th>\n",
              "    </tr>\n",
              "  </thead>\n",
              "  <tbody>\n",
              "    <tr>\n",
              "      <th>0</th>\n",
              "      <td>01.01.2020 21:00</td>\n",
              "      <td>-1.9</td>\n",
              "      <td>745.5</td>\n",
              "      <td>760.4</td>\n",
              "      <td>0.3</td>\n",
              "      <td>83.0</td>\n",
              "      <td>Ветер, дующий с запада</td>\n",
              "      <td>1</td>\n",
              "      <td>NaN</td>\n",
              "      <td>NaN</td>\n",
              "      <td>100%.</td>\n",
              "      <td></td>\n",
              "      <td>NaN</td>\n",
              "      <td>NaN</td>\n",
              "      <td>NaN</td>\n",
              "      <td>0.0</td>\n",
              "      <td>Слоисто-кучевые, образовавшиеся не из кучевых.</td>\n",
              "      <td>100%.</td>\n",
              "      <td>600-1000</td>\n",
              "      <td>NaN</td>\n",
              "      <td>NaN</td>\n",
              "      <td>NaN</td>\n",
              "      <td>-4.5</td>\n",
              "      <td>Следы осадков</td>\n",
              "      <td>12.0</td>\n",
              "      <td>NaN</td>\n",
              "      <td>NaN</td>\n",
              "      <td>NaN</td>\n",
              "      <td>NaN</td>\n",
              "    </tr>\n",
              "    <tr>\n",
              "      <th>1</th>\n",
              "      <td>01.01.2020 18:00</td>\n",
              "      <td>-3.0</td>\n",
              "      <td>745.2</td>\n",
              "      <td>760.2</td>\n",
              "      <td>1.4</td>\n",
              "      <td>77.0</td>\n",
              "      <td>Ветер, дующий с западо-северо-запада</td>\n",
              "      <td>1</td>\n",
              "      <td>NaN</td>\n",
              "      <td>NaN</td>\n",
              "      <td>100%.</td>\n",
              "      <td></td>\n",
              "      <td>NaN</td>\n",
              "      <td>NaN</td>\n",
              "      <td>NaN</td>\n",
              "      <td>NaN</td>\n",
              "      <td>Слоисто-кучевые, образовавшиеся не из кучевых.</td>\n",
              "      <td>100%.</td>\n",
              "      <td>600-1000</td>\n",
              "      <td>NaN</td>\n",
              "      <td>NaN</td>\n",
              "      <td>NaN</td>\n",
              "      <td>-6.5</td>\n",
              "      <td>Следы осадков</td>\n",
              "      <td>12.0</td>\n",
              "      <td>NaN</td>\n",
              "      <td>NaN</td>\n",
              "      <td>NaN</td>\n",
              "      <td>NaN</td>\n",
              "    </tr>\n",
              "    <tr>\n",
              "      <th>2</th>\n",
              "      <td>01.01.2020 15:00</td>\n",
              "      <td>-2.3</td>\n",
              "      <td>743.8</td>\n",
              "      <td>758.8</td>\n",
              "      <td>1.4</td>\n",
              "      <td>71.0</td>\n",
              "      <td>Ветер, дующий с северо-северо-запада</td>\n",
              "      <td>2</td>\n",
              "      <td>NaN</td>\n",
              "      <td>NaN</td>\n",
              "      <td>50%.</td>\n",
              "      <td>Облака в целом рассеиваются или становятся мен...</td>\n",
              "      <td>Ливень (ливни).</td>\n",
              "      <td>Облака покрывали более половины неба в течение...</td>\n",
              "      <td>NaN</td>\n",
              "      <td>NaN</td>\n",
              "      <td>Слоисто-кучевые, образовавшиеся не из кучевых.</td>\n",
              "      <td>50%.</td>\n",
              "      <td>600-1000</td>\n",
              "      <td>Высококучевых, высокослоистых или слоисто-дожд...</td>\n",
              "      <td>Перистых, перисто-кучевых или перисто-слоистых...</td>\n",
              "      <td>10.0</td>\n",
              "      <td>-6.9</td>\n",
              "      <td>NaN</td>\n",
              "      <td>NaN</td>\n",
              "      <td>NaN</td>\n",
              "      <td>NaN</td>\n",
              "      <td>NaN</td>\n",
              "      <td>NaN</td>\n",
              "    </tr>\n",
              "    <tr>\n",
              "      <th>3</th>\n",
              "      <td>01.01.2020 12:00</td>\n",
              "      <td>-2.0</td>\n",
              "      <td>742.4</td>\n",
              "      <td>757.3</td>\n",
              "      <td>3.4</td>\n",
              "      <td>66.0</td>\n",
              "      <td>Ветер, дующий с севера</td>\n",
              "      <td>3</td>\n",
              "      <td>NaN</td>\n",
              "      <td>11.0</td>\n",
              "      <td>90  или более, но не 100%</td>\n",
              "      <td>Облака в целом образовывались или развивались.</td>\n",
              "      <td>Ливень (ливни).</td>\n",
              "      <td>Облака покрывали более половины неба в течение...</td>\n",
              "      <td>NaN</td>\n",
              "      <td>NaN</td>\n",
              "      <td>Слоисто-кучевые, образовавшиеся не из кучевых.</td>\n",
              "      <td>90  или более, но не 100%</td>\n",
              "      <td>600-1000</td>\n",
              "      <td>Высококучевых, высокослоистых или слоисто-дожд...</td>\n",
              "      <td>Перистых, перисто-кучевых или перисто-слоистых...</td>\n",
              "      <td>10.0</td>\n",
              "      <td>-7.5</td>\n",
              "      <td>NaN</td>\n",
              "      <td>NaN</td>\n",
              "      <td>NaN</td>\n",
              "      <td>NaN</td>\n",
              "      <td>NaN</td>\n",
              "      <td>NaN</td>\n",
              "    </tr>\n",
              "    <tr>\n",
              "      <th>4</th>\n",
              "      <td>01.01.2020 09:00</td>\n",
              "      <td>0.0</td>\n",
              "      <td>739.0</td>\n",
              "      <td>753.7</td>\n",
              "      <td>3.6</td>\n",
              "      <td>85.0</td>\n",
              "      <td>Ветер, дующий с северо-северо-запада</td>\n",
              "      <td>3</td>\n",
              "      <td>NaN</td>\n",
              "      <td>10.0</td>\n",
              "      <td>100%.</td>\n",
              "      <td>Состояние неба в общем не изменилось.</td>\n",
              "      <td>Ливень (ливни).</td>\n",
              "      <td>Облака покрывали более половины неба в течение...</td>\n",
              "      <td>-0.1</td>\n",
              "      <td>NaN</td>\n",
              "      <td>Слоисто-кучевые, образовавшиеся не из кучевых.</td>\n",
              "      <td>100%.</td>\n",
              "      <td>600-1000</td>\n",
              "      <td>NaN</td>\n",
              "      <td>NaN</td>\n",
              "      <td>10.0</td>\n",
              "      <td>-2.3</td>\n",
              "      <td>0.9</td>\n",
              "      <td>12.0</td>\n",
              "      <td>NaN</td>\n",
              "      <td>NaN</td>\n",
              "      <td>Ровный слой слежавшегося или мокрого снега пок...</td>\n",
              "      <td>1</td>\n",
              "    </tr>\n",
              "    <tr>\n",
              "      <th>...</th>\n",
              "      <td>...</td>\n",
              "      <td>...</td>\n",
              "      <td>...</td>\n",
              "      <td>...</td>\n",
              "      <td>...</td>\n",
              "      <td>...</td>\n",
              "      <td>...</td>\n",
              "      <td>...</td>\n",
              "      <td>...</td>\n",
              "      <td>...</td>\n",
              "      <td>...</td>\n",
              "      <td>...</td>\n",
              "      <td>...</td>\n",
              "      <td>...</td>\n",
              "      <td>...</td>\n",
              "      <td>...</td>\n",
              "      <td>...</td>\n",
              "      <td>...</td>\n",
              "      <td>...</td>\n",
              "      <td>...</td>\n",
              "      <td>...</td>\n",
              "      <td>...</td>\n",
              "      <td>...</td>\n",
              "      <td>...</td>\n",
              "      <td>...</td>\n",
              "      <td>...</td>\n",
              "      <td>...</td>\n",
              "      <td>...</td>\n",
              "      <td>...</td>\n",
              "    </tr>\n",
              "    <tr>\n",
              "      <th>17642</th>\n",
              "      <td>01.01.2015 04:00</td>\n",
              "      <td>-5.1</td>\n",
              "      <td>742.7</td>\n",
              "      <td>757.8</td>\n",
              "      <td>-0.2</td>\n",
              "      <td>94.0</td>\n",
              "      <td>Ветер, дующий с запада</td>\n",
              "      <td>1</td>\n",
              "      <td>NaN</td>\n",
              "      <td>NaN</td>\n",
              "      <td>NaN</td>\n",
              "      <td></td>\n",
              "      <td>NaN</td>\n",
              "      <td>NaN</td>\n",
              "      <td>NaN</td>\n",
              "      <td>NaN</td>\n",
              "      <td>NaN</td>\n",
              "      <td>NaN</td>\n",
              "      <td>NaN</td>\n",
              "      <td>NaN</td>\n",
              "      <td>NaN</td>\n",
              "      <td>NaN</td>\n",
              "      <td>-5.9</td>\n",
              "      <td>NaN</td>\n",
              "      <td>NaN</td>\n",
              "      <td>NaN</td>\n",
              "      <td>NaN</td>\n",
              "      <td>NaN</td>\n",
              "      <td>NaN</td>\n",
              "    </tr>\n",
              "    <tr>\n",
              "      <th>17643</th>\n",
              "      <td>01.01.2015 03:00</td>\n",
              "      <td>-5.5</td>\n",
              "      <td>742.7</td>\n",
              "      <td>757.8</td>\n",
              "      <td>-0.5</td>\n",
              "      <td>92.0</td>\n",
              "      <td>Ветер, дующий с запада</td>\n",
              "      <td>2</td>\n",
              "      <td>NaN</td>\n",
              "      <td>NaN</td>\n",
              "      <td>100%.</td>\n",
              "      <td>Снег непрерывный слабый в срок наблюдения.  Ди...</td>\n",
              "      <td>Снег или дождь со снегом.</td>\n",
              "      <td>Морось.</td>\n",
              "      <td>NaN</td>\n",
              "      <td>NaN</td>\n",
              "      <td>Слоисто-кучевые, образовавшиеся не из кучевых.</td>\n",
              "      <td>100%.</td>\n",
              "      <td>600-1000</td>\n",
              "      <td>NaN</td>\n",
              "      <td>NaN</td>\n",
              "      <td>NaN</td>\n",
              "      <td>-6.6</td>\n",
              "      <td>NaN</td>\n",
              "      <td>NaN</td>\n",
              "      <td>NaN</td>\n",
              "      <td>NaN</td>\n",
              "      <td>NaN</td>\n",
              "      <td>NaN</td>\n",
              "    </tr>\n",
              "    <tr>\n",
              "      <th>17644</th>\n",
              "      <td>01.01.2015 02:00</td>\n",
              "      <td>-5.9</td>\n",
              "      <td>742.9</td>\n",
              "      <td>758.0</td>\n",
              "      <td>-0.5</td>\n",
              "      <td>93.0</td>\n",
              "      <td>Ветер, дующий с запада</td>\n",
              "      <td>1</td>\n",
              "      <td>NaN</td>\n",
              "      <td>NaN</td>\n",
              "      <td>NaN</td>\n",
              "      <td></td>\n",
              "      <td>NaN</td>\n",
              "      <td>NaN</td>\n",
              "      <td>NaN</td>\n",
              "      <td>NaN</td>\n",
              "      <td>NaN</td>\n",
              "      <td>NaN</td>\n",
              "      <td>NaN</td>\n",
              "      <td>NaN</td>\n",
              "      <td>NaN</td>\n",
              "      <td>NaN</td>\n",
              "      <td>-6.9</td>\n",
              "      <td>NaN</td>\n",
              "      <td>NaN</td>\n",
              "      <td>NaN</td>\n",
              "      <td>NaN</td>\n",
              "      <td>NaN</td>\n",
              "      <td>NaN</td>\n",
              "    </tr>\n",
              "    <tr>\n",
              "      <th>17645</th>\n",
              "      <td>01.01.2015 01:00</td>\n",
              "      <td>-6.2</td>\n",
              "      <td>742.9</td>\n",
              "      <td>758.0</td>\n",
              "      <td>-0.7</td>\n",
              "      <td>92.0</td>\n",
              "      <td>Ветер, дующий с западо-юго-запада</td>\n",
              "      <td>1</td>\n",
              "      <td>NaN</td>\n",
              "      <td>NaN</td>\n",
              "      <td>NaN</td>\n",
              "      <td></td>\n",
              "      <td>NaN</td>\n",
              "      <td>NaN</td>\n",
              "      <td>NaN</td>\n",
              "      <td>NaN</td>\n",
              "      <td>NaN</td>\n",
              "      <td>NaN</td>\n",
              "      <td>NaN</td>\n",
              "      <td>NaN</td>\n",
              "      <td>NaN</td>\n",
              "      <td>NaN</td>\n",
              "      <td>-7.3</td>\n",
              "      <td>NaN</td>\n",
              "      <td>NaN</td>\n",
              "      <td>NaN</td>\n",
              "      <td>NaN</td>\n",
              "      <td>NaN</td>\n",
              "      <td>NaN</td>\n",
              "    </tr>\n",
              "    <tr>\n",
              "      <th>17646</th>\n",
              "      <td>01.01.2015 00:00</td>\n",
              "      <td>-6.6</td>\n",
              "      <td>743.2</td>\n",
              "      <td>758.4</td>\n",
              "      <td>-0.7</td>\n",
              "      <td>93.0</td>\n",
              "      <td>Ветер, дующий с западо-юго-запада</td>\n",
              "      <td>2</td>\n",
              "      <td>NaN</td>\n",
              "      <td>NaN</td>\n",
              "      <td>100%.</td>\n",
              "      <td>Морось (незамерзающая) или снежные зерна нелив...</td>\n",
              "      <td>Снег или дождь со снегом.</td>\n",
              "      <td>Морось.</td>\n",
              "      <td>NaN</td>\n",
              "      <td>NaN</td>\n",
              "      <td>Слоисто-кучевые, образовавшиеся не из кучевых.</td>\n",
              "      <td>100%.</td>\n",
              "      <td>300-600</td>\n",
              "      <td>NaN</td>\n",
              "      <td>NaN</td>\n",
              "      <td>NaN</td>\n",
              "      <td>-7.5</td>\n",
              "      <td>NaN</td>\n",
              "      <td>NaN</td>\n",
              "      <td>NaN</td>\n",
              "      <td>NaN</td>\n",
              "      <td>NaN</td>\n",
              "      <td>NaN</td>\n",
              "    </tr>\n",
              "  </tbody>\n",
              "</table>\n",
              "<p>17647 rows × 29 columns</p>\n",
              "</div>"
            ],
            "text/plain": [
              "      Местное время в Москве (ВДНХ)  ...  sss\n",
              "0                  01.01.2020 21:00  ...  NaN\n",
              "1                  01.01.2020 18:00  ...  NaN\n",
              "2                  01.01.2020 15:00  ...  NaN\n",
              "3                  01.01.2020 12:00  ...  NaN\n",
              "4                  01.01.2020 09:00  ...    1\n",
              "...                             ...  ...  ...\n",
              "17642              01.01.2015 04:00  ...  NaN\n",
              "17643              01.01.2015 03:00  ...  NaN\n",
              "17644              01.01.2015 02:00  ...  NaN\n",
              "17645              01.01.2015 01:00  ...  NaN\n",
              "17646              01.01.2015 00:00  ...  NaN\n",
              "\n",
              "[17647 rows x 29 columns]"
            ]
          },
          "metadata": {
            "tags": []
          },
          "execution_count": 25
        }
      ]
    },
    {
      "cell_type": "code",
      "metadata": {
        "id": "2NgwRCUNDful",
        "colab_type": "code",
        "colab": {
          "base_uri": "https://localhost:8080/",
          "height": 87
        },
        "outputId": "3b8932a1-59ea-4228-8884-3c6aadbec205"
      },
      "source": [
        "data.columns"
      ],
      "execution_count": null,
      "outputs": [
        {
          "output_type": "execute_result",
          "data": {
            "text/plain": [
              "Index(['Местное время в Москве (ВДНХ)', 'T', 'Po', 'P', 'Pa', 'U', 'DD', 'Ff',\n",
              "       'ff10', 'ff3', 'N', 'WW', 'W1', 'W2', 'Tn', 'Tx', 'Cl', 'Nh', 'H', 'Cm',\n",
              "       'Ch', 'VV', 'Td', 'RRR', 'tR', 'E', 'Tg', 'E'', 'sss'],\n",
              "      dtype='object')"
            ]
          },
          "metadata": {
            "tags": []
          },
          "execution_count": 26
        }
      ]
    },
    {
      "cell_type": "code",
      "metadata": {
        "id": "pDRQtej_D6s3",
        "colab_type": "code",
        "colab": {
          "base_uri": "https://localhost:8080/",
          "height": 228
        },
        "outputId": "131612d9-78c2-4491-eb1b-a69f1c9bb522"
      },
      "source": [
        "# колонки вырезаются из таблицы оператором []\n",
        "# Индексация начинается с нуля\n",
        "data['T']"
      ],
      "execution_count": null,
      "outputs": [
        {
          "output_type": "execute_result",
          "data": {
            "text/plain": [
              "0       -1.9\n",
              "1       -3.0\n",
              "2       -2.3\n",
              "3       -2.0\n",
              "4        0.0\n",
              "        ... \n",
              "17642   -5.1\n",
              "17643   -5.5\n",
              "17644   -5.9\n",
              "17645   -6.2\n",
              "17646   -6.6\n",
              "Name: T, Length: 17647, dtype: float64"
            ]
          },
          "metadata": {
            "tags": []
          },
          "execution_count": 27
        }
      ]
    },
    {
      "cell_type": "code",
      "metadata": {
        "id": "EaU6l0enEDGD",
        "colab_type": "code",
        "colab": {
          "base_uri": "https://localhost:8080/",
          "height": 34
        },
        "outputId": "ad2fbe9f-9f76-4b88-8e7c-100892508b6f"
      },
      "source": [
        "# Колонка имеет формат {индекс: данные}\n",
        "# Получили данные из колонки по номеру\n",
        "data['T'][17646]"
      ],
      "execution_count": null,
      "outputs": [
        {
          "output_type": "execute_result",
          "data": {
            "text/plain": [
              "-6.6"
            ]
          },
          "metadata": {
            "tags": []
          },
          "execution_count": 28
        }
      ]
    },
    {
      "cell_type": "code",
      "metadata": {
        "id": "HtZyUdrJEVxW",
        "colab_type": "code",
        "colab": {
          "base_uri": "https://localhost:8080/",
          "height": 34
        },
        "outputId": "97a66ed0-15fa-4200-8c7f-4469fda75a07"
      },
      "source": [
        "# индекс имеет тип range index - перебирает все значения от 0 до 17647\n",
        "x = data.index\n",
        "x"
      ],
      "execution_count": null,
      "outputs": [
        {
          "output_type": "execute_result",
          "data": {
            "text/plain": [
              "RangeIndex(start=0, stop=17647, step=1)"
            ]
          },
          "metadata": {
            "tags": []
          },
          "execution_count": 29
        }
      ]
    },
    {
      "cell_type": "code",
      "metadata": {
        "id": "jHwzZ2obE_N-",
        "colab_type": "code",
        "colab": {}
      },
      "source": [
        "y = data['T']"
      ],
      "execution_count": null,
      "outputs": []
    },
    {
      "cell_type": "code",
      "metadata": {
        "id": "to8PkFvSEsSR",
        "colab_type": "code",
        "colab": {
          "base_uri": "https://localhost:8080/",
          "height": 282
        },
        "outputId": "36b7f694-176c-4fa0-fd92-baeb24894352"
      },
      "source": [
        "plt.plot(x, y)"
      ],
      "execution_count": null,
      "outputs": [
        {
          "output_type": "execute_result",
          "data": {
            "text/plain": [
              "[<matplotlib.lines.Line2D at 0x7f0893a2fe10>]"
            ]
          },
          "metadata": {
            "tags": []
          },
          "execution_count": 31
        },
        {
          "output_type": "display_data",
          "data": {
            "image/png": "[encoded data removed]",
            "text/plain": [
              "<Figure size 432x288 with 1 Axes>"
            ]
          },
          "metadata": {
            "tags": [],
            "needs_background": "light"
          }
        }
      ]
    },
    {
      "cell_type": "code",
      "metadata": {
        "id": "6jj26TZtFHHv",
        "colab_type": "code",
        "colab": {
          "base_uri": "https://localhost:8080/",
          "height": 279
        },
        "outputId": "b31448ab-ed0e-4d9f-8e25-7e5879e633f6"
      },
      "source": [
        "# Что хочется добавить: подписи осей, размер графика\n",
        "\n",
        "\n",
        "plt.figure(figsize=(20, 5))  # размер графика\n",
        "plt.plot(x, y)\n",
        "# Подпишем оси\n",
        "plt.xlabel('индекс')\n",
        "plt.ylabel('T')"
      ],
      "execution_count": null,
      "outputs": [
        {
          "output_type": "execute_result",
          "data": {
            "text/plain": [
              "Text(0, 0.5, 'T')"
            ]
          },
          "metadata": {
            "tags": []
          },
          "execution_count": 35
        },
        {
          "output_type": "display_data",
          "data": {
            "image/png": "[encoded data removed]",
            "text/plain": [
              "<Figure size 1440x360 with 1 Axes>"
            ]
          },
          "metadata": {
            "tags": [],
            "needs_background": "light"
          }
        }
      ]
    },
    {
      "cell_type": "code",
      "metadata": {
        "id": "BECcdENLFVjO",
        "colab_type": "code",
        "colab": {
          "base_uri": "https://localhost:8080/",
          "height": 279
        },
        "outputId": "88102f6e-25ae-4259-cf98-36fee106f72e"
      },
      "source": [
        "data2 = data[data.index > 12000]  # отфильтровали по условию index > 2500\n",
        "x2 = data2.index\n",
        "y2 = data2['T']\n",
        "plt.figure(figsize=(20, 5))  # размер графика\n",
        "plt.plot(x2, y2)\n",
        "# Подпишем оси\n",
        "plt.xlabel('индекс')\n",
        "plt.ylabel('T')"
      ],
      "execution_count": null,
      "outputs": [
        {
          "output_type": "execute_result",
          "data": {
            "text/plain": [
              "Text(0, 0.5, 'T')"
            ]
          },
          "metadata": {
            "tags": []
          },
          "execution_count": 38
        },
        {
          "output_type": "display_data",
          "data": {
            "image/png": "[encoded data removed]",
            "text/plain": [
              "<Figure size 1440x360 with 1 Axes>"
            ]
          },
          "metadata": {
            "tags": [],
            "needs_background": "light"
          }
        }
      ]
    },
    {
      "cell_type": "code",
      "metadata": {
        "id": "TFbgCO9oF_C1",
        "colab_type": "code",
        "colab": {
          "base_uri": "https://localhost:8080/",
          "height": 34
        },
        "outputId": "1146b60e-894d-41d4-ca5b-ac642e2a3e56"
      },
      "source": [
        "# посмотреть размер таблицы в атрибуте shape - (строки, столбцы)\n",
        "data.shape, data2.shape"
      ],
      "execution_count": null,
      "outputs": [
        {
          "output_type": "execute_result",
          "data": {
            "text/plain": [
              "((17647, 29), (5646, 29))"
            ]
          },
          "metadata": {
            "tags": []
          },
          "execution_count": 39
        }
      ]
    },
    {
      "cell_type": "code",
      "metadata": {
        "id": "LVC-9XHJKYdQ",
        "colab_type": "code",
        "colab": {
          "base_uri": "https://localhost:8080/",
          "height": 282
        },
        "outputId": "93759194-8a5b-4d16-c766-8108c77f11b8"
      },
      "source": [
        "plt.figure(figsize=(20, 5))  # размер графика\n",
        "# Цвет и подпись к легенде\n",
        "plt.plot([1, 2, 3], [5, 4, 7], color='red', label='red line')  # на входе массив координат x и y\n",
        "plt.plot([2, 3], [2, 6], color='blue', label='blue line')\n",
        "plt.legend() # чтобы легенда отобразилась\n",
        "# Подпишем оси\n",
        "plt.xlabel('X')\n",
        "plt.ylabel('Y')"
      ],
      "execution_count": null,
      "outputs": [
        {
          "output_type": "execute_result",
          "data": {
            "text/plain": [
              "Text(0, 0.5, 'Y')"
            ]
          },
          "metadata": {
            "tags": []
          },
          "execution_count": 42
        },
        {
          "output_type": "display_data",
          "data": {
            "image/png": "[encoded data removed]",
            "text/plain": [
              "<Figure size 1440x360 with 1 Axes>"
            ]
          },
          "metadata": {
            "tags": [],
            "needs_background": "light"
          }
        }
      ]
    },
    {
      "cell_type": "code",
      "metadata": {
        "id": "cKEBNMk3K_sy",
        "colab_type": "code",
        "colab": {
          "base_uri": "https://localhost:8080/",
          "height": 158
        },
        "outputId": "dbcda9a2-f5ad-44c5-f183-7114db11d21a"
      },
      "source": [
        "# Что можно делать с колонками в таблице:\n",
        "data_copy = data.drop(columns=['Po'])\n",
        "data.columns, data_copy.columns"
      ],
      "execution_count": null,
      "outputs": [
        {
          "output_type": "execute_result",
          "data": {
            "text/plain": [
              "(Index(['Местное время в Москве (ВДНХ)', 'T', 'Po', 'P', 'Pa', 'U', 'DD', 'Ff',\n",
              "        'ff10', 'ff3', 'N', 'WW', 'W1', 'W2', 'Tn', 'Tx', 'Cl', 'Nh', 'H', 'Cm',\n",
              "        'Ch', 'VV', 'Td', 'RRR', 'tR', 'E', 'Tg', 'E'', 'sss'],\n",
              "       dtype='object'),\n",
              " Index(['Местное время в Москве (ВДНХ)', 'T', 'P', 'Pa', 'U', 'DD', 'Ff',\n",
              "        'ff10', 'ff3', 'N', 'WW', 'W1', 'W2', 'Tn', 'Tx', 'Cl', 'Nh', 'H', 'Cm',\n",
              "        'Ch', 'VV', 'Td', 'RRR', 'tR', 'E', 'Tg', 'E'', 'sss'],\n",
              "       dtype='object'))"
            ]
          },
          "metadata": {
            "tags": []
          },
          "execution_count": 45
        }
      ]
    },
    {
      "cell_type": "code",
      "metadata": {
        "id": "SfQIoVg5LWo4",
        "colab_type": "code",
        "colab": {
          "base_uri": "https://localhost:8080/",
          "height": 422
        },
        "outputId": "0a3d4e3c-8d5f-4c8b-de67-dc78d3869161"
      },
      "source": [
        "# Можно применить арифметическую операцию к колонке\n",
        "data['P'] / data['Po'], data['P'] + 0.5  "
      ],
      "execution_count": null,
      "outputs": [
        {
          "output_type": "execute_result",
          "data": {
            "text/plain": [
              "(0        1.019987\n",
              " 1        1.020129\n",
              " 2        1.020167\n",
              " 3        1.020070\n",
              " 4        1.019892\n",
              "            ...   \n",
              " 17642    1.020331\n",
              " 17643    1.020331\n",
              " 17644    1.020326\n",
              " 17645    1.020326\n",
              " 17646    1.020452\n",
              " Length: 17647, dtype: float64, 0        760.9\n",
              " 1        760.7\n",
              " 2        759.3\n",
              " 3        757.8\n",
              " 4        754.2\n",
              "          ...  \n",
              " 17642    758.3\n",
              " 17643    758.3\n",
              " 17644    758.5\n",
              " 17645    758.5\n",
              " 17646    758.9\n",
              " Name: P, Length: 17647, dtype: float64)"
            ]
          },
          "metadata": {
            "tags": []
          },
          "execution_count": 48
        }
      ]
    },
    {
      "cell_type": "code",
      "metadata": {
        "id": "dRs4Ly04Lvm6",
        "colab_type": "code",
        "colab": {
          "base_uri": "https://localhost:8080/",
          "height": 1000
        },
        "outputId": "d7345130-0d79-49b5-aba9-5564bd472054"
      },
      "source": [
        "column = data['P'] + 0.5  # Можно сохранить результат операции в отдельной колонке\n",
        "data['new_column'] = column\n",
        "print(data.columns)\n",
        "data"
      ],
      "execution_count": null,
      "outputs": [
        {
          "output_type": "stream",
          "text": [
            "Index(['Местное время в Москве (ВДНХ)', 'T', 'Po', 'P', 'Pa', 'U', 'DD', 'Ff',\n",
            "       'ff10', 'ff3', 'N', 'WW', 'W1', 'W2', 'Tn', 'Tx', 'Cl', 'Nh', 'H', 'Cm',\n",
            "       'Ch', 'VV', 'Td', 'RRR', 'tR', 'E', 'Tg', 'E'', 'sss', 'new_column'],\n",
            "      dtype='object')\n"
          ],
          "name": "stdout"
        },
        {
          "output_type": "execute_result",
          "data": {
            "text/html": [
              "<div>\n",
              "<style scoped>\n",
              "    .dataframe tbody tr th:only-of-type {\n",
              "        vertical-align: middle;\n",
              "    }\n",
              "\n",
              "    .dataframe tbody tr th {\n",
              "        vertical-align: top;\n",
              "    }\n",
              "\n",
              "    .dataframe thead th {\n",
              "        text-align: right;\n",
              "    }\n",
              "</style>\n",
              "<table border=\"1\" class=\"dataframe\">\n",
              "  <thead>\n",
              "    <tr style=\"text-align: right;\">\n",
              "      <th></th>\n",
              "      <th>Местное время в Москве (ВДНХ)</th>\n",
              "      <th>T</th>\n",
              "      <th>Po</th>\n",
              "      <th>P</th>\n",
              "      <th>Pa</th>\n",
              "      <th>U</th>\n",
              "      <th>DD</th>\n",
              "      <th>Ff</th>\n",
              "      <th>ff10</th>\n",
              "      <th>ff3</th>\n",
              "      <th>N</th>\n",
              "      <th>WW</th>\n",
              "      <th>W1</th>\n",
              "      <th>W2</th>\n",
              "      <th>Tn</th>\n",
              "      <th>Tx</th>\n",
              "      <th>Cl</th>\n",
              "      <th>Nh</th>\n",
              "      <th>H</th>\n",
              "      <th>Cm</th>\n",
              "      <th>Ch</th>\n",
              "      <th>VV</th>\n",
              "      <th>Td</th>\n",
              "      <th>RRR</th>\n",
              "      <th>tR</th>\n",
              "      <th>E</th>\n",
              "      <th>Tg</th>\n",
              "      <th>E'</th>\n",
              "      <th>sss</th>\n",
              "      <th>new_column</th>\n",
              "    </tr>\n",
              "  </thead>\n",
              "  <tbody>\n",
              "    <tr>\n",
              "      <th>0</th>\n",
              "      <td>01.01.2020 21:00</td>\n",
              "      <td>-1.9</td>\n",
              "      <td>745.5</td>\n",
              "      <td>760.4</td>\n",
              "      <td>0.3</td>\n",
              "      <td>83.0</td>\n",
              "      <td>Ветер, дующий с запада</td>\n",
              "      <td>1</td>\n",
              "      <td>NaN</td>\n",
              "      <td>NaN</td>\n",
              "      <td>100%.</td>\n",
              "      <td></td>\n",
              "      <td>NaN</td>\n",
              "      <td>NaN</td>\n",
              "      <td>NaN</td>\n",
              "      <td>0.0</td>\n",
              "      <td>Слоисто-кучевые, образовавшиеся не из кучевых.</td>\n",
              "      <td>100%.</td>\n",
              "      <td>600-1000</td>\n",
              "      <td>NaN</td>\n",
              "      <td>NaN</td>\n",
              "      <td>NaN</td>\n",
              "      <td>-4.5</td>\n",
              "      <td>Следы осадков</td>\n",
              "      <td>12.0</td>\n",
              "      <td>NaN</td>\n",
              "      <td>NaN</td>\n",
              "      <td>NaN</td>\n",
              "      <td>NaN</td>\n",
              "      <td>760.9</td>\n",
              "    </tr>\n",
              "    <tr>\n",
              "      <th>1</th>\n",
              "      <td>01.01.2020 18:00</td>\n",
              "      <td>-3.0</td>\n",
              "      <td>745.2</td>\n",
              "      <td>760.2</td>\n",
              "      <td>1.4</td>\n",
              "      <td>77.0</td>\n",
              "      <td>Ветер, дующий с западо-северо-запада</td>\n",
              "      <td>1</td>\n",
              "      <td>NaN</td>\n",
              "      <td>NaN</td>\n",
              "      <td>100%.</td>\n",
              "      <td></td>\n",
              "      <td>NaN</td>\n",
              "      <td>NaN</td>\n",
              "      <td>NaN</td>\n",
              "      <td>NaN</td>\n",
              "      <td>Слоисто-кучевые, образовавшиеся не из кучевых.</td>\n",
              "      <td>100%.</td>\n",
              "      <td>600-1000</td>\n",
              "      <td>NaN</td>\n",
              "      <td>NaN</td>\n",
              "      <td>NaN</td>\n",
              "      <td>-6.5</td>\n",
              "      <td>Следы осадков</td>\n",
              "      <td>12.0</td>\n",
              "      <td>NaN</td>\n",
              "      <td>NaN</td>\n",
              "      <td>NaN</td>\n",
              "      <td>NaN</td>\n",
              "      <td>760.7</td>\n",
              "    </tr>\n",
              "    <tr>\n",
              "      <th>2</th>\n",
              "      <td>01.01.2020 15:00</td>\n",
              "      <td>-2.3</td>\n",
              "      <td>743.8</td>\n",
              "      <td>758.8</td>\n",
              "      <td>1.4</td>\n",
              "      <td>71.0</td>\n",
              "      <td>Ветер, дующий с северо-северо-запада</td>\n",
              "      <td>2</td>\n",
              "      <td>NaN</td>\n",
              "      <td>NaN</td>\n",
              "      <td>50%.</td>\n",
              "      <td>Облака в целом рассеиваются или становятся мен...</td>\n",
              "      <td>Ливень (ливни).</td>\n",
              "      <td>Облака покрывали более половины неба в течение...</td>\n",
              "      <td>NaN</td>\n",
              "      <td>NaN</td>\n",
              "      <td>Слоисто-кучевые, образовавшиеся не из кучевых.</td>\n",
              "      <td>50%.</td>\n",
              "      <td>600-1000</td>\n",
              "      <td>Высококучевых, высокослоистых или слоисто-дожд...</td>\n",
              "      <td>Перистых, перисто-кучевых или перисто-слоистых...</td>\n",
              "      <td>10.0</td>\n",
              "      <td>-6.9</td>\n",
              "      <td>NaN</td>\n",
              "      <td>NaN</td>\n",
              "      <td>NaN</td>\n",
              "      <td>NaN</td>\n",
              "      <td>NaN</td>\n",
              "      <td>NaN</td>\n",
              "      <td>759.3</td>\n",
              "    </tr>\n",
              "    <tr>\n",
              "      <th>3</th>\n",
              "      <td>01.01.2020 12:00</td>\n",
              "      <td>-2.0</td>\n",
              "      <td>742.4</td>\n",
              "      <td>757.3</td>\n",
              "      <td>3.4</td>\n",
              "      <td>66.0</td>\n",
              "      <td>Ветер, дующий с севера</td>\n",
              "      <td>3</td>\n",
              "      <td>NaN</td>\n",
              "      <td>11.0</td>\n",
              "      <td>90  или более, но не 100%</td>\n",
              "      <td>Облака в целом образовывались или развивались.</td>\n",
              "      <td>Ливень (ливни).</td>\n",
              "      <td>Облака покрывали более половины неба в течение...</td>\n",
              "      <td>NaN</td>\n",
              "      <td>NaN</td>\n",
              "      <td>Слоисто-кучевые, образовавшиеся не из кучевых.</td>\n",
              "      <td>90  или более, но не 100%</td>\n",
              "      <td>600-1000</td>\n",
              "      <td>Высококучевых, высокослоистых или слоисто-дожд...</td>\n",
              "      <td>Перистых, перисто-кучевых или перисто-слоистых...</td>\n",
              "      <td>10.0</td>\n",
              "      <td>-7.5</td>\n",
              "      <td>NaN</td>\n",
              "      <td>NaN</td>\n",
              "      <td>NaN</td>\n",
              "      <td>NaN</td>\n",
              "      <td>NaN</td>\n",
              "      <td>NaN</td>\n",
              "      <td>757.8</td>\n",
              "    </tr>\n",
              "    <tr>\n",
              "      <th>4</th>\n",
              "      <td>01.01.2020 09:00</td>\n",
              "      <td>0.0</td>\n",
              "      <td>739.0</td>\n",
              "      <td>753.7</td>\n",
              "      <td>3.6</td>\n",
              "      <td>85.0</td>\n",
              "      <td>Ветер, дующий с северо-северо-запада</td>\n",
              "      <td>3</td>\n",
              "      <td>NaN</td>\n",
              "      <td>10.0</td>\n",
              "      <td>100%.</td>\n",
              "      <td>Состояние неба в общем не изменилось.</td>\n",
              "      <td>Ливень (ливни).</td>\n",
              "      <td>Облака покрывали более половины неба в течение...</td>\n",
              "      <td>-0.1</td>\n",
              "      <td>NaN</td>\n",
              "      <td>Слоисто-кучевые, образовавшиеся не из кучевых.</td>\n",
              "      <td>100%.</td>\n",
              "      <td>600-1000</td>\n",
              "      <td>NaN</td>\n",
              "      <td>NaN</td>\n",
              "      <td>10.0</td>\n",
              "      <td>-2.3</td>\n",
              "      <td>0.9</td>\n",
              "      <td>12.0</td>\n",
              "      <td>NaN</td>\n",
              "      <td>NaN</td>\n",
              "      <td>Ровный слой слежавшегося или мокрого снега пок...</td>\n",
              "      <td>1</td>\n",
              "      <td>754.2</td>\n",
              "    </tr>\n",
              "    <tr>\n",
              "      <th>...</th>\n",
              "      <td>...</td>\n",
              "      <td>...</td>\n",
              "      <td>...</td>\n",
              "      <td>...</td>\n",
              "      <td>...</td>\n",
              "      <td>...</td>\n",
              "      <td>...</td>\n",
              "      <td>...</td>\n",
              "      <td>...</td>\n",
              "      <td>...</td>\n",
              "      <td>...</td>\n",
              "      <td>...</td>\n",
              "      <td>...</td>\n",
              "      <td>...</td>\n",
              "      <td>...</td>\n",
              "      <td>...</td>\n",
              "      <td>...</td>\n",
              "      <td>...</td>\n",
              "      <td>...</td>\n",
              "      <td>...</td>\n",
              "      <td>...</td>\n",
              "      <td>...</td>\n",
              "      <td>...</td>\n",
              "      <td>...</td>\n",
              "      <td>...</td>\n",
              "      <td>...</td>\n",
              "      <td>...</td>\n",
              "      <td>...</td>\n",
              "      <td>...</td>\n",
              "      <td>...</td>\n",
              "    </tr>\n",
              "    <tr>\n",
              "      <th>17642</th>\n",
              "      <td>01.01.2015 04:00</td>\n",
              "      <td>-5.1</td>\n",
              "      <td>742.7</td>\n",
              "      <td>757.8</td>\n",
              "      <td>-0.2</td>\n",
              "      <td>94.0</td>\n",
              "      <td>Ветер, дующий с запада</td>\n",
              "      <td>1</td>\n",
              "      <td>NaN</td>\n",
              "      <td>NaN</td>\n",
              "      <td>NaN</td>\n",
              "      <td></td>\n",
              "      <td>NaN</td>\n",
              "      <td>NaN</td>\n",
              "      <td>NaN</td>\n",
              "      <td>NaN</td>\n",
              "      <td>NaN</td>\n",
              "      <td>NaN</td>\n",
              "      <td>NaN</td>\n",
              "      <td>NaN</td>\n",
              "      <td>NaN</td>\n",
              "      <td>NaN</td>\n",
              "      <td>-5.9</td>\n",
              "      <td>NaN</td>\n",
              "      <td>NaN</td>\n",
              "      <td>NaN</td>\n",
              "      <td>NaN</td>\n",
              "      <td>NaN</td>\n",
              "      <td>NaN</td>\n",
              "      <td>758.3</td>\n",
              "    </tr>\n",
              "    <tr>\n",
              "      <th>17643</th>\n",
              "      <td>01.01.2015 03:00</td>\n",
              "      <td>-5.5</td>\n",
              "      <td>742.7</td>\n",
              "      <td>757.8</td>\n",
              "      <td>-0.5</td>\n",
              "      <td>92.0</td>\n",
              "      <td>Ветер, дующий с запада</td>\n",
              "      <td>2</td>\n",
              "      <td>NaN</td>\n",
              "      <td>NaN</td>\n",
              "      <td>100%.</td>\n",
              "      <td>Снег непрерывный слабый в срок наблюдения.  Ди...</td>\n",
              "      <td>Снег или дождь со снегом.</td>\n",
              "      <td>Морось.</td>\n",
              "      <td>NaN</td>\n",
              "      <td>NaN</td>\n",
              "      <td>Слоисто-кучевые, образовавшиеся не из кучевых.</td>\n",
              "      <td>100%.</td>\n",
              "      <td>600-1000</td>\n",
              "      <td>NaN</td>\n",
              "      <td>NaN</td>\n",
              "      <td>NaN</td>\n",
              "      <td>-6.6</td>\n",
              "      <td>NaN</td>\n",
              "      <td>NaN</td>\n",
              "      <td>NaN</td>\n",
              "      <td>NaN</td>\n",
              "      <td>NaN</td>\n",
              "      <td>NaN</td>\n",
              "      <td>758.3</td>\n",
              "    </tr>\n",
              "    <tr>\n",
              "      <th>17644</th>\n",
              "      <td>01.01.2015 02:00</td>\n",
              "      <td>-5.9</td>\n",
              "      <td>742.9</td>\n",
              "      <td>758.0</td>\n",
              "      <td>-0.5</td>\n",
              "      <td>93.0</td>\n",
              "      <td>Ветер, дующий с запада</td>\n",
              "      <td>1</td>\n",
              "      <td>NaN</td>\n",
              "      <td>NaN</td>\n",
              "      <td>NaN</td>\n",
              "      <td></td>\n",
              "      <td>NaN</td>\n",
              "      <td>NaN</td>\n",
              "      <td>NaN</td>\n",
              "      <td>NaN</td>\n",
              "      <td>NaN</td>\n",
              "      <td>NaN</td>\n",
              "      <td>NaN</td>\n",
              "      <td>NaN</td>\n",
              "      <td>NaN</td>\n",
              "      <td>NaN</td>\n",
              "      <td>-6.9</td>\n",
              "      <td>NaN</td>\n",
              "      <td>NaN</td>\n",
              "      <td>NaN</td>\n",
              "      <td>NaN</td>\n",
              "      <td>NaN</td>\n",
              "      <td>NaN</td>\n",
              "      <td>758.5</td>\n",
              "    </tr>\n",
              "    <tr>\n",
              "      <th>17645</th>\n",
              "      <td>01.01.2015 01:00</td>\n",
              "      <td>-6.2</td>\n",
              "      <td>742.9</td>\n",
              "      <td>758.0</td>\n",
              "      <td>-0.7</td>\n",
              "      <td>92.0</td>\n",
              "      <td>Ветер, дующий с западо-юго-запада</td>\n",
              "      <td>1</td>\n",
              "      <td>NaN</td>\n",
              "      <td>NaN</td>\n",
              "      <td>NaN</td>\n",
              "      <td></td>\n",
              "      <td>NaN</td>\n",
              "      <td>NaN</td>\n",
              "      <td>NaN</td>\n",
              "      <td>NaN</td>\n",
              "      <td>NaN</td>\n",
              "      <td>NaN</td>\n",
              "      <td>NaN</td>\n",
              "      <td>NaN</td>\n",
              "      <td>NaN</td>\n",
              "      <td>NaN</td>\n",
              "      <td>-7.3</td>\n",
              "      <td>NaN</td>\n",
              "      <td>NaN</td>\n",
              "      <td>NaN</td>\n",
              "      <td>NaN</td>\n",
              "      <td>NaN</td>\n",
              "      <td>NaN</td>\n",
              "      <td>758.5</td>\n",
              "    </tr>\n",
              "    <tr>\n",
              "      <th>17646</th>\n",
              "      <td>01.01.2015 00:00</td>\n",
              "      <td>-6.6</td>\n",
              "      <td>743.2</td>\n",
              "      <td>758.4</td>\n",
              "      <td>-0.7</td>\n",
              "      <td>93.0</td>\n",
              "      <td>Ветер, дующий с западо-юго-запада</td>\n",
              "      <td>2</td>\n",
              "      <td>NaN</td>\n",
              "      <td>NaN</td>\n",
              "      <td>100%.</td>\n",
              "      <td>Морось (незамерзающая) или снежные зерна нелив...</td>\n",
              "      <td>Снег или дождь со снегом.</td>\n",
              "      <td>Морось.</td>\n",
              "      <td>NaN</td>\n",
              "      <td>NaN</td>\n",
              "      <td>Слоисто-кучевые, образовавшиеся не из кучевых.</td>\n",
              "      <td>100%.</td>\n",
              "      <td>300-600</td>\n",
              "      <td>NaN</td>\n",
              "      <td>NaN</td>\n",
              "      <td>NaN</td>\n",
              "      <td>-7.5</td>\n",
              "      <td>NaN</td>\n",
              "      <td>NaN</td>\n",
              "      <td>NaN</td>\n",
              "      <td>NaN</td>\n",
              "      <td>NaN</td>\n",
              "      <td>NaN</td>\n",
              "      <td>758.9</td>\n",
              "    </tr>\n",
              "  </tbody>\n",
              "</table>\n",
              "<p>17647 rows × 30 columns</p>\n",
              "</div>"
            ],
            "text/plain": [
              "      Местное время в Москве (ВДНХ)    T  ...  sss  new_column\n",
              "0                  01.01.2020 21:00 -1.9  ...  NaN       760.9\n",
              "1                  01.01.2020 18:00 -3.0  ...  NaN       760.7\n",
              "2                  01.01.2020 15:00 -2.3  ...  NaN       759.3\n",
              "3                  01.01.2020 12:00 -2.0  ...  NaN       757.8\n",
              "4                  01.01.2020 09:00  0.0  ...    1       754.2\n",
              "...                             ...  ...  ...  ...         ...\n",
              "17642              01.01.2015 04:00 -5.1  ...  NaN       758.3\n",
              "17643              01.01.2015 03:00 -5.5  ...  NaN       758.3\n",
              "17644              01.01.2015 02:00 -5.9  ...  NaN       758.5\n",
              "17645              01.01.2015 01:00 -6.2  ...  NaN       758.5\n",
              "17646              01.01.2015 00:00 -6.6  ...  NaN       758.9\n",
              "\n",
              "[17647 rows x 30 columns]"
            ]
          },
          "metadata": {
            "tags": []
          },
          "execution_count": 51
        }
      ]
    },
    {
      "cell_type": "code",
      "metadata": {
        "id": "pDCLUYz1MdPN",
        "colab_type": "code",
        "colab": {}
      },
      "source": [
        "# Сохранение данных\n",
        "data.to_excel('our_file.xlsx')  # вызывается функция таблички, передаем имя файла, куда сохранять"
      ],
      "execution_count": null,
      "outputs": []
    },
    {
      "cell_type": "code",
      "metadata": {
        "id": "2SGqi3FBGVqH",
        "colab_type": "code",
        "colab": {}
      },
      "source": [
        "# Нам неинтересно смотреть на индекс - нужно смотреть на дату"
      ],
      "execution_count": null,
      "outputs": []
    },
    {
      "cell_type": "code",
      "metadata": {
        "id": "un9Z9hnCMcWr",
        "colab_type": "code",
        "colab": {}
      },
      "source": [
        "# Преобразование данных в нужный формат"
      ],
      "execution_count": null,
      "outputs": []
    },
    {
      "cell_type": "code",
      "metadata": {
        "id": "X3v8i2xwGfBl",
        "colab_type": "code",
        "colab": {
          "base_uri": "https://localhost:8080/",
          "height": 228
        },
        "outputId": "f5261b09-0054-457e-eb2c-ef41961b1559"
      },
      "source": [
        "data['Местное время в Москве (ВДНХ)']"
      ],
      "execution_count": null,
      "outputs": [
        {
          "output_type": "execute_result",
          "data": {
            "text/plain": [
              "0        01.01.2020 21:00\n",
              "1        01.01.2020 18:00\n",
              "2        01.01.2020 15:00\n",
              "3        01.01.2020 12:00\n",
              "4        01.01.2020 09:00\n",
              "               ...       \n",
              "17642    01.01.2015 04:00\n",
              "17643    01.01.2015 03:00\n",
              "17644    01.01.2015 02:00\n",
              "17645    01.01.2015 01:00\n",
              "17646    01.01.2015 00:00\n",
              "Name: Местное время в Москве (ВДНХ), Length: 17647, dtype: object"
            ]
          },
          "metadata": {
            "tags": []
          },
          "execution_count": 54
        }
      ]
    },
    {
      "cell_type": "code",
      "metadata": {
        "id": "ByCPLr7-NGFu",
        "colab_type": "code",
        "colab": {
          "base_uri": "https://localhost:8080/",
          "height": 35
        },
        "outputId": "3fa2cfc2-1aee-4d10-9b85-0b79d81f8fb2"
      },
      "source": [
        "data['Местное время в Москве (ВДНХ)'][0]  # это строка, нужно преборазовать в формат даты"
      ],
      "execution_count": null,
      "outputs": [
        {
          "output_type": "execute_result",
          "data": {
            "application/vnd.google.colaboratory.intrinsic": {
              "type": "string"
            },
            "text/plain": [
              "'01.01.2020 21:00'"
            ]
          },
          "metadata": {
            "tags": []
          },
          "execution_count": 56
        }
      ]
    },
    {
      "cell_type": "code",
      "metadata": {
        "id": "dLOLadSONImq",
        "colab_type": "code",
        "colab": {
          "base_uri": "https://localhost:8080/",
          "height": 228
        },
        "outputId": "50084113-4399-422b-9458-3e9fb04b12f2"
      },
      "source": [
        "# Быть внимательным с форматом - по умолчанию америнский формат, где месяц идет первым\n",
        "date = pd.to_datetime(data['Местное время в Москве (ВДНХ)'], dayfirst=True)\n",
        "date"
      ],
      "execution_count": null,
      "outputs": [
        {
          "output_type": "execute_result",
          "data": {
            "text/plain": [
              "0       2020-01-01 21:00:00\n",
              "1       2020-01-01 18:00:00\n",
              "2       2020-01-01 15:00:00\n",
              "3       2020-01-01 12:00:00\n",
              "4       2020-01-01 09:00:00\n",
              "                ...        \n",
              "17642   2015-01-01 04:00:00\n",
              "17643   2015-01-01 03:00:00\n",
              "17644   2015-01-01 02:00:00\n",
              "17645   2015-01-01 01:00:00\n",
              "17646   2015-01-01 00:00:00\n",
              "Name: Местное время в Москве (ВДНХ), Length: 17647, dtype: datetime64[ns]"
            ]
          },
          "metadata": {
            "tags": []
          },
          "execution_count": 57
        }
      ]
    },
    {
      "cell_type": "code",
      "metadata": {
        "id": "eflQNnBcNgN5",
        "colab_type": "code",
        "colab": {
          "base_uri": "https://localhost:8080/",
          "height": 228
        },
        "outputId": "fd0fd921-f877-4943-a216-f0582df379c9"
      },
      "source": [
        "data['date'] = date  # добавили новую колонку\n",
        "data = data.set_index('date')  # сделать эту колонку индексом\n",
        "data.index  # был RangeIndex - числа, стал Datetime - даты"
      ],
      "execution_count": null,
      "outputs": [
        {
          "output_type": "execute_result",
          "data": {
            "text/plain": [
              "DatetimeIndex(['2020-01-01 21:00:00', '2020-01-01 18:00:00',\n",
              "               '2020-01-01 15:00:00', '2020-01-01 12:00:00',\n",
              "               '2020-01-01 09:00:00', '2020-01-01 06:00:00',\n",
              "               '2020-01-01 03:00:00', '2020-01-01 00:00:00',\n",
              "               '2019-12-31 21:00:00', '2019-12-31 18:00:00',\n",
              "               ...\n",
              "               '2015-01-01 09:00:00', '2015-01-01 08:00:00',\n",
              "               '2015-01-01 07:00:00', '2015-01-01 06:00:00',\n",
              "               '2015-01-01 05:00:00', '2015-01-01 04:00:00',\n",
              "               '2015-01-01 03:00:00', '2015-01-01 02:00:00',\n",
              "               '2015-01-01 01:00:00', '2015-01-01 00:00:00'],\n",
              "              dtype='datetime64[ns]', name='date', length=17647, freq=None)"
            ]
          },
          "metadata": {
            "tags": []
          },
          "execution_count": 59
        }
      ]
    },
    {
      "cell_type": "code",
      "metadata": {
        "id": "zAXrfFzqN43I",
        "colab_type": "code",
        "colab": {
          "base_uri": "https://localhost:8080/",
          "height": 1000
        },
        "outputId": "f5edc310-141e-427c-a98f-f9f59c1bfd72"
      },
      "source": [
        "data"
      ],
      "execution_count": null,
      "outputs": [
        {
          "output_type": "execute_result",
          "data": {
            "text/html": [
              "<div>\n",
              "<style scoped>\n",
              "    .dataframe tbody tr th:only-of-type {\n",
              "        vertical-align: middle;\n",
              "    }\n",
              "\n",
              "    .dataframe tbody tr th {\n",
              "        vertical-align: top;\n",
              "    }\n",
              "\n",
              "    .dataframe thead th {\n",
              "        text-align: right;\n",
              "    }\n",
              "</style>\n",
              "<table border=\"1\" class=\"dataframe\">\n",
              "  <thead>\n",
              "    <tr style=\"text-align: right;\">\n",
              "      <th></th>\n",
              "      <th>Местное время в Москве (ВДНХ)</th>\n",
              "      <th>T</th>\n",
              "      <th>Po</th>\n",
              "      <th>P</th>\n",
              "      <th>Pa</th>\n",
              "      <th>U</th>\n",
              "      <th>DD</th>\n",
              "      <th>Ff</th>\n",
              "      <th>ff10</th>\n",
              "      <th>ff3</th>\n",
              "      <th>N</th>\n",
              "      <th>WW</th>\n",
              "      <th>W1</th>\n",
              "      <th>W2</th>\n",
              "      <th>Tn</th>\n",
              "      <th>Tx</th>\n",
              "      <th>Cl</th>\n",
              "      <th>Nh</th>\n",
              "      <th>H</th>\n",
              "      <th>Cm</th>\n",
              "      <th>Ch</th>\n",
              "      <th>VV</th>\n",
              "      <th>Td</th>\n",
              "      <th>RRR</th>\n",
              "      <th>tR</th>\n",
              "      <th>E</th>\n",
              "      <th>Tg</th>\n",
              "      <th>E'</th>\n",
              "      <th>sss</th>\n",
              "      <th>new_column</th>\n",
              "    </tr>\n",
              "    <tr>\n",
              "      <th>date</th>\n",
              "      <th></th>\n",
              "      <th></th>\n",
              "      <th></th>\n",
              "      <th></th>\n",
              "      <th></th>\n",
              "      <th></th>\n",
              "      <th></th>\n",
              "      <th></th>\n",
              "      <th></th>\n",
              "      <th></th>\n",
              "      <th></th>\n",
              "      <th></th>\n",
              "      <th></th>\n",
              "      <th></th>\n",
              "      <th></th>\n",
              "      <th></th>\n",
              "      <th></th>\n",
              "      <th></th>\n",
              "      <th></th>\n",
              "      <th></th>\n",
              "      <th></th>\n",
              "      <th></th>\n",
              "      <th></th>\n",
              "      <th></th>\n",
              "      <th></th>\n",
              "      <th></th>\n",
              "      <th></th>\n",
              "      <th></th>\n",
              "      <th></th>\n",
              "      <th></th>\n",
              "    </tr>\n",
              "  </thead>\n",
              "  <tbody>\n",
              "    <tr>\n",
              "      <th>2020-01-01 21:00:00</th>\n",
              "      <td>01.01.2020 21:00</td>\n",
              "      <td>-1.9</td>\n",
              "      <td>745.5</td>\n",
              "      <td>760.4</td>\n",
              "      <td>0.3</td>\n",
              "      <td>83.0</td>\n",
              "      <td>Ветер, дующий с запада</td>\n",
              "      <td>1</td>\n",
              "      <td>NaN</td>\n",
              "      <td>NaN</td>\n",
              "      <td>100%.</td>\n",
              "      <td></td>\n",
              "      <td>NaN</td>\n",
              "      <td>NaN</td>\n",
              "      <td>NaN</td>\n",
              "      <td>0.0</td>\n",
              "      <td>Слоисто-кучевые, образовавшиеся не из кучевых.</td>\n",
              "      <td>100%.</td>\n",
              "      <td>600-1000</td>\n",
              "      <td>NaN</td>\n",
              "      <td>NaN</td>\n",
              "      <td>NaN</td>\n",
              "      <td>-4.5</td>\n",
              "      <td>Следы осадков</td>\n",
              "      <td>12.0</td>\n",
              "      <td>NaN</td>\n",
              "      <td>NaN</td>\n",
              "      <td>NaN</td>\n",
              "      <td>NaN</td>\n",
              "      <td>760.9</td>\n",
              "    </tr>\n",
              "    <tr>\n",
              "      <th>2020-01-01 18:00:00</th>\n",
              "      <td>01.01.2020 18:00</td>\n",
              "      <td>-3.0</td>\n",
              "      <td>745.2</td>\n",
              "      <td>760.2</td>\n",
              "      <td>1.4</td>\n",
              "      <td>77.0</td>\n",
              "      <td>Ветер, дующий с западо-северо-запада</td>\n",
              "      <td>1</td>\n",
              "      <td>NaN</td>\n",
              "      <td>NaN</td>\n",
              "      <td>100%.</td>\n",
              "      <td></td>\n",
              "      <td>NaN</td>\n",
              "      <td>NaN</td>\n",
              "      <td>NaN</td>\n",
              "      <td>NaN</td>\n",
              "      <td>Слоисто-кучевые, образовавшиеся не из кучевых.</td>\n",
              "      <td>100%.</td>\n",
              "      <td>600-1000</td>\n",
              "      <td>NaN</td>\n",
              "      <td>NaN</td>\n",
              "      <td>NaN</td>\n",
              "      <td>-6.5</td>\n",
              "      <td>Следы осадков</td>\n",
              "      <td>12.0</td>\n",
              "      <td>NaN</td>\n",
              "      <td>NaN</td>\n",
              "      <td>NaN</td>\n",
              "      <td>NaN</td>\n",
              "      <td>760.7</td>\n",
              "    </tr>\n",
              "    <tr>\n",
              "      <th>2020-01-01 15:00:00</th>\n",
              "      <td>01.01.2020 15:00</td>\n",
              "      <td>-2.3</td>\n",
              "      <td>743.8</td>\n",
              "      <td>758.8</td>\n",
              "      <td>1.4</td>\n",
              "      <td>71.0</td>\n",
              "      <td>Ветер, дующий с северо-северо-запада</td>\n",
              "      <td>2</td>\n",
              "      <td>NaN</td>\n",
              "      <td>NaN</td>\n",
              "      <td>50%.</td>\n",
              "      <td>Облака в целом рассеиваются или становятся мен...</td>\n",
              "      <td>Ливень (ливни).</td>\n",
              "      <td>Облака покрывали более половины неба в течение...</td>\n",
              "      <td>NaN</td>\n",
              "      <td>NaN</td>\n",
              "      <td>Слоисто-кучевые, образовавшиеся не из кучевых.</td>\n",
              "      <td>50%.</td>\n",
              "      <td>600-1000</td>\n",
              "      <td>Высококучевых, высокослоистых или слоисто-дожд...</td>\n",
              "      <td>Перистых, перисто-кучевых или перисто-слоистых...</td>\n",
              "      <td>10.0</td>\n",
              "      <td>-6.9</td>\n",
              "      <td>NaN</td>\n",
              "      <td>NaN</td>\n",
              "      <td>NaN</td>\n",
              "      <td>NaN</td>\n",
              "      <td>NaN</td>\n",
              "      <td>NaN</td>\n",
              "      <td>759.3</td>\n",
              "    </tr>\n",
              "    <tr>\n",
              "      <th>2020-01-01 12:00:00</th>\n",
              "      <td>01.01.2020 12:00</td>\n",
              "      <td>-2.0</td>\n",
              "      <td>742.4</td>\n",
              "      <td>757.3</td>\n",
              "      <td>3.4</td>\n",
              "      <td>66.0</td>\n",
              "      <td>Ветер, дующий с севера</td>\n",
              "      <td>3</td>\n",
              "      <td>NaN</td>\n",
              "      <td>11.0</td>\n",
              "      <td>90  или более, но не 100%</td>\n",
              "      <td>Облака в целом образовывались или развивались.</td>\n",
              "      <td>Ливень (ливни).</td>\n",
              "      <td>Облака покрывали более половины неба в течение...</td>\n",
              "      <td>NaN</td>\n",
              "      <td>NaN</td>\n",
              "      <td>Слоисто-кучевые, образовавшиеся не из кучевых.</td>\n",
              "      <td>90  или более, но не 100%</td>\n",
              "      <td>600-1000</td>\n",
              "      <td>Высококучевых, высокослоистых или слоисто-дожд...</td>\n",
              "      <td>Перистых, перисто-кучевых или перисто-слоистых...</td>\n",
              "      <td>10.0</td>\n",
              "      <td>-7.5</td>\n",
              "      <td>NaN</td>\n",
              "      <td>NaN</td>\n",
              "      <td>NaN</td>\n",
              "      <td>NaN</td>\n",
              "      <td>NaN</td>\n",
              "      <td>NaN</td>\n",
              "      <td>757.8</td>\n",
              "    </tr>\n",
              "    <tr>\n",
              "      <th>2020-01-01 09:00:00</th>\n",
              "      <td>01.01.2020 09:00</td>\n",
              "      <td>0.0</td>\n",
              "      <td>739.0</td>\n",
              "      <td>753.7</td>\n",
              "      <td>3.6</td>\n",
              "      <td>85.0</td>\n",
              "      <td>Ветер, дующий с северо-северо-запада</td>\n",
              "      <td>3</td>\n",
              "      <td>NaN</td>\n",
              "      <td>10.0</td>\n",
              "      <td>100%.</td>\n",
              "      <td>Состояние неба в общем не изменилось.</td>\n",
              "      <td>Ливень (ливни).</td>\n",
              "      <td>Облака покрывали более половины неба в течение...</td>\n",
              "      <td>-0.1</td>\n",
              "      <td>NaN</td>\n",
              "      <td>Слоисто-кучевые, образовавшиеся не из кучевых.</td>\n",
              "      <td>100%.</td>\n",
              "      <td>600-1000</td>\n",
              "      <td>NaN</td>\n",
              "      <td>NaN</td>\n",
              "      <td>10.0</td>\n",
              "      <td>-2.3</td>\n",
              "      <td>0.9</td>\n",
              "      <td>12.0</td>\n",
              "      <td>NaN</td>\n",
              "      <td>NaN</td>\n",
              "      <td>Ровный слой слежавшегося или мокрого снега пок...</td>\n",
              "      <td>1</td>\n",
              "      <td>754.2</td>\n",
              "    </tr>\n",
              "    <tr>\n",
              "      <th>...</th>\n",
              "      <td>...</td>\n",
              "      <td>...</td>\n",
              "      <td>...</td>\n",
              "      <td>...</td>\n",
              "      <td>...</td>\n",
              "      <td>...</td>\n",
              "      <td>...</td>\n",
              "      <td>...</td>\n",
              "      <td>...</td>\n",
              "      <td>...</td>\n",
              "      <td>...</td>\n",
              "      <td>...</td>\n",
              "      <td>...</td>\n",
              "      <td>...</td>\n",
              "      <td>...</td>\n",
              "      <td>...</td>\n",
              "      <td>...</td>\n",
              "      <td>...</td>\n",
              "      <td>...</td>\n",
              "      <td>...</td>\n",
              "      <td>...</td>\n",
              "      <td>...</td>\n",
              "      <td>...</td>\n",
              "      <td>...</td>\n",
              "      <td>...</td>\n",
              "      <td>...</td>\n",
              "      <td>...</td>\n",
              "      <td>...</td>\n",
              "      <td>...</td>\n",
              "      <td>...</td>\n",
              "    </tr>\n",
              "    <tr>\n",
              "      <th>2015-01-01 04:00:00</th>\n",
              "      <td>01.01.2015 04:00</td>\n",
              "      <td>-5.1</td>\n",
              "      <td>742.7</td>\n",
              "      <td>757.8</td>\n",
              "      <td>-0.2</td>\n",
              "      <td>94.0</td>\n",
              "      <td>Ветер, дующий с запада</td>\n",
              "      <td>1</td>\n",
              "      <td>NaN</td>\n",
              "      <td>NaN</td>\n",
              "      <td>NaN</td>\n",
              "      <td></td>\n",
              "      <td>NaN</td>\n",
              "      <td>NaN</td>\n",
              "      <td>NaN</td>\n",
              "      <td>NaN</td>\n",
              "      <td>NaN</td>\n",
              "      <td>NaN</td>\n",
              "      <td>NaN</td>\n",
              "      <td>NaN</td>\n",
              "      <td>NaN</td>\n",
              "      <td>NaN</td>\n",
              "      <td>-5.9</td>\n",
              "      <td>NaN</td>\n",
              "      <td>NaN</td>\n",
              "      <td>NaN</td>\n",
              "      <td>NaN</td>\n",
              "      <td>NaN</td>\n",
              "      <td>NaN</td>\n",
              "      <td>758.3</td>\n",
              "    </tr>\n",
              "    <tr>\n",
              "      <th>2015-01-01 03:00:00</th>\n",
              "      <td>01.01.2015 03:00</td>\n",
              "      <td>-5.5</td>\n",
              "      <td>742.7</td>\n",
              "      <td>757.8</td>\n",
              "      <td>-0.5</td>\n",
              "      <td>92.0</td>\n",
              "      <td>Ветер, дующий с запада</td>\n",
              "      <td>2</td>\n",
              "      <td>NaN</td>\n",
              "      <td>NaN</td>\n",
              "      <td>100%.</td>\n",
              "      <td>Снег непрерывный слабый в срок наблюдения.  Ди...</td>\n",
              "      <td>Снег или дождь со снегом.</td>\n",
              "      <td>Морось.</td>\n",
              "      <td>NaN</td>\n",
              "      <td>NaN</td>\n",
              "      <td>Слоисто-кучевые, образовавшиеся не из кучевых.</td>\n",
              "      <td>100%.</td>\n",
              "      <td>600-1000</td>\n",
              "      <td>NaN</td>\n",
              "      <td>NaN</td>\n",
              "      <td>NaN</td>\n",
              "      <td>-6.6</td>\n",
              "      <td>NaN</td>\n",
              "      <td>NaN</td>\n",
              "      <td>NaN</td>\n",
              "      <td>NaN</td>\n",
              "      <td>NaN</td>\n",
              "      <td>NaN</td>\n",
              "      <td>758.3</td>\n",
              "    </tr>\n",
              "    <tr>\n",
              "      <th>2015-01-01 02:00:00</th>\n",
              "      <td>01.01.2015 02:00</td>\n",
              "      <td>-5.9</td>\n",
              "      <td>742.9</td>\n",
              "      <td>758.0</td>\n",
              "      <td>-0.5</td>\n",
              "      <td>93.0</td>\n",
              "      <td>Ветер, дующий с запада</td>\n",
              "      <td>1</td>\n",
              "      <td>NaN</td>\n",
              "      <td>NaN</td>\n",
              "      <td>NaN</td>\n",
              "      <td></td>\n",
              "      <td>NaN</td>\n",
              "      <td>NaN</td>\n",
              "      <td>NaN</td>\n",
              "      <td>NaN</td>\n",
              "      <td>NaN</td>\n",
              "      <td>NaN</td>\n",
              "      <td>NaN</td>\n",
              "      <td>NaN</td>\n",
              "      <td>NaN</td>\n",
              "      <td>NaN</td>\n",
              "      <td>-6.9</td>\n",
              "      <td>NaN</td>\n",
              "      <td>NaN</td>\n",
              "      <td>NaN</td>\n",
              "      <td>NaN</td>\n",
              "      <td>NaN</td>\n",
              "      <td>NaN</td>\n",
              "      <td>758.5</td>\n",
              "    </tr>\n",
              "    <tr>\n",
              "      <th>2015-01-01 01:00:00</th>\n",
              "      <td>01.01.2015 01:00</td>\n",
              "      <td>-6.2</td>\n",
              "      <td>742.9</td>\n",
              "      <td>758.0</td>\n",
              "      <td>-0.7</td>\n",
              "      <td>92.0</td>\n",
              "      <td>Ветер, дующий с западо-юго-запада</td>\n",
              "      <td>1</td>\n",
              "      <td>NaN</td>\n",
              "      <td>NaN</td>\n",
              "      <td>NaN</td>\n",
              "      <td></td>\n",
              "      <td>NaN</td>\n",
              "      <td>NaN</td>\n",
              "      <td>NaN</td>\n",
              "      <td>NaN</td>\n",
              "      <td>NaN</td>\n",
              "      <td>NaN</td>\n",
              "      <td>NaN</td>\n",
              "      <td>NaN</td>\n",
              "      <td>NaN</td>\n",
              "      <td>NaN</td>\n",
              "      <td>-7.3</td>\n",
              "      <td>NaN</td>\n",
              "      <td>NaN</td>\n",
              "      <td>NaN</td>\n",
              "      <td>NaN</td>\n",
              "      <td>NaN</td>\n",
              "      <td>NaN</td>\n",
              "      <td>758.5</td>\n",
              "    </tr>\n",
              "    <tr>\n",
              "      <th>2015-01-01 00:00:00</th>\n",
              "      <td>01.01.2015 00:00</td>\n",
              "      <td>-6.6</td>\n",
              "      <td>743.2</td>\n",
              "      <td>758.4</td>\n",
              "      <td>-0.7</td>\n",
              "      <td>93.0</td>\n",
              "      <td>Ветер, дующий с западо-юго-запада</td>\n",
              "      <td>2</td>\n",
              "      <td>NaN</td>\n",
              "      <td>NaN</td>\n",
              "      <td>100%.</td>\n",
              "      <td>Морось (незамерзающая) или снежные зерна нелив...</td>\n",
              "      <td>Снег или дождь со снегом.</td>\n",
              "      <td>Морось.</td>\n",
              "      <td>NaN</td>\n",
              "      <td>NaN</td>\n",
              "      <td>Слоисто-кучевые, образовавшиеся не из кучевых.</td>\n",
              "      <td>100%.</td>\n",
              "      <td>300-600</td>\n",
              "      <td>NaN</td>\n",
              "      <td>NaN</td>\n",
              "      <td>NaN</td>\n",
              "      <td>-7.5</td>\n",
              "      <td>NaN</td>\n",
              "      <td>NaN</td>\n",
              "      <td>NaN</td>\n",
              "      <td>NaN</td>\n",
              "      <td>NaN</td>\n",
              "      <td>NaN</td>\n",
              "      <td>758.9</td>\n",
              "    </tr>\n",
              "  </tbody>\n",
              "</table>\n",
              "<p>17647 rows × 30 columns</p>\n",
              "</div>"
            ],
            "text/plain": [
              "                    Местное время в Москве (ВДНХ)    T  ...  sss  new_column\n",
              "date                                                    ...                 \n",
              "2020-01-01 21:00:00              01.01.2020 21:00 -1.9  ...  NaN       760.9\n",
              "2020-01-01 18:00:00              01.01.2020 18:00 -3.0  ...  NaN       760.7\n",
              "2020-01-01 15:00:00              01.01.2020 15:00 -2.3  ...  NaN       759.3\n",
              "2020-01-01 12:00:00              01.01.2020 12:00 -2.0  ...  NaN       757.8\n",
              "2020-01-01 09:00:00              01.01.2020 09:00  0.0  ...    1       754.2\n",
              "...                                           ...  ...  ...  ...         ...\n",
              "2015-01-01 04:00:00              01.01.2015 04:00 -5.1  ...  NaN       758.3\n",
              "2015-01-01 03:00:00              01.01.2015 03:00 -5.5  ...  NaN       758.3\n",
              "2015-01-01 02:00:00              01.01.2015 02:00 -5.9  ...  NaN       758.5\n",
              "2015-01-01 01:00:00              01.01.2015 01:00 -6.2  ...  NaN       758.5\n",
              "2015-01-01 00:00:00              01.01.2015 00:00 -6.6  ...  NaN       758.9\n",
              "\n",
              "[17647 rows x 30 columns]"
            ]
          },
          "metadata": {
            "tags": []
          },
          "execution_count": 60
        }
      ]
    },
    {
      "cell_type": "code",
      "metadata": {
        "id": "YvynImfmNwoY",
        "colab_type": "code",
        "colab": {
          "base_uri": "https://localhost:8080/",
          "height": 34
        },
        "outputId": "63a8577b-09c1-4d1f-919f-ed9559483579"
      },
      "source": [
        "first_day = pd.Timestamp(year=2019, month=1, day=1)  # создали переменную 1.1.2019\n",
        "first_day"
      ],
      "execution_count": null,
      "outputs": [
        {
          "output_type": "execute_result",
          "data": {
            "text/plain": [
              "Timestamp('2019-01-01 00:00:00')"
            ]
          },
          "metadata": {
            "tags": []
          },
          "execution_count": 61
        }
      ]
    },
    {
      "cell_type": "code",
      "metadata": {
        "id": "2-zfCaqgOMtJ",
        "colab_type": "code",
        "colab": {
          "base_uri": "https://localhost:8080/",
          "height": 1000
        },
        "outputId": "4028c82a-7e95-496f-a49f-366b6426221f"
      },
      "source": [
        "data[data.index > first_day]"
      ],
      "execution_count": null,
      "outputs": [
        {
          "output_type": "execute_result",
          "data": {
            "text/html": [
              "<div>\n",
              "<style scoped>\n",
              "    .dataframe tbody tr th:only-of-type {\n",
              "        vertical-align: middle;\n",
              "    }\n",
              "\n",
              "    .dataframe tbody tr th {\n",
              "        vertical-align: top;\n",
              "    }\n",
              "\n",
              "    .dataframe thead th {\n",
              "        text-align: right;\n",
              "    }\n",
              "</style>\n",
              "<table border=\"1\" class=\"dataframe\">\n",
              "  <thead>\n",
              "    <tr style=\"text-align: right;\">\n",
              "      <th></th>\n",
              "      <th>Местное время в Москве (ВДНХ)</th>\n",
              "      <th>T</th>\n",
              "      <th>Po</th>\n",
              "      <th>P</th>\n",
              "      <th>Pa</th>\n",
              "      <th>U</th>\n",
              "      <th>DD</th>\n",
              "      <th>Ff</th>\n",
              "      <th>ff10</th>\n",
              "      <th>ff3</th>\n",
              "      <th>N</th>\n",
              "      <th>WW</th>\n",
              "      <th>W1</th>\n",
              "      <th>W2</th>\n",
              "      <th>Tn</th>\n",
              "      <th>Tx</th>\n",
              "      <th>Cl</th>\n",
              "      <th>Nh</th>\n",
              "      <th>H</th>\n",
              "      <th>Cm</th>\n",
              "      <th>Ch</th>\n",
              "      <th>VV</th>\n",
              "      <th>Td</th>\n",
              "      <th>RRR</th>\n",
              "      <th>tR</th>\n",
              "      <th>E</th>\n",
              "      <th>Tg</th>\n",
              "      <th>E'</th>\n",
              "      <th>sss</th>\n",
              "      <th>new_column</th>\n",
              "    </tr>\n",
              "    <tr>\n",
              "      <th>date</th>\n",
              "      <th></th>\n",
              "      <th></th>\n",
              "      <th></th>\n",
              "      <th></th>\n",
              "      <th></th>\n",
              "      <th></th>\n",
              "      <th></th>\n",
              "      <th></th>\n",
              "      <th></th>\n",
              "      <th></th>\n",
              "      <th></th>\n",
              "      <th></th>\n",
              "      <th></th>\n",
              "      <th></th>\n",
              "      <th></th>\n",
              "      <th></th>\n",
              "      <th></th>\n",
              "      <th></th>\n",
              "      <th></th>\n",
              "      <th></th>\n",
              "      <th></th>\n",
              "      <th></th>\n",
              "      <th></th>\n",
              "      <th></th>\n",
              "      <th></th>\n",
              "      <th></th>\n",
              "      <th></th>\n",
              "      <th></th>\n",
              "      <th></th>\n",
              "      <th></th>\n",
              "    </tr>\n",
              "  </thead>\n",
              "  <tbody>\n",
              "    <tr>\n",
              "      <th>2020-01-01 21:00:00</th>\n",
              "      <td>01.01.2020 21:00</td>\n",
              "      <td>-1.9</td>\n",
              "      <td>745.5</td>\n",
              "      <td>760.4</td>\n",
              "      <td>0.3</td>\n",
              "      <td>83.0</td>\n",
              "      <td>Ветер, дующий с запада</td>\n",
              "      <td>1</td>\n",
              "      <td>NaN</td>\n",
              "      <td>NaN</td>\n",
              "      <td>100%.</td>\n",
              "      <td></td>\n",
              "      <td>NaN</td>\n",
              "      <td>NaN</td>\n",
              "      <td>NaN</td>\n",
              "      <td>0.0</td>\n",
              "      <td>Слоисто-кучевые, образовавшиеся не из кучевых.</td>\n",
              "      <td>100%.</td>\n",
              "      <td>600-1000</td>\n",
              "      <td>NaN</td>\n",
              "      <td>NaN</td>\n",
              "      <td>NaN</td>\n",
              "      <td>-4.5</td>\n",
              "      <td>Следы осадков</td>\n",
              "      <td>12.0</td>\n",
              "      <td>NaN</td>\n",
              "      <td>NaN</td>\n",
              "      <td>NaN</td>\n",
              "      <td>NaN</td>\n",
              "      <td>760.9</td>\n",
              "    </tr>\n",
              "    <tr>\n",
              "      <th>2020-01-01 18:00:00</th>\n",
              "      <td>01.01.2020 18:00</td>\n",
              "      <td>-3.0</td>\n",
              "      <td>745.2</td>\n",
              "      <td>760.2</td>\n",
              "      <td>1.4</td>\n",
              "      <td>77.0</td>\n",
              "      <td>Ветер, дующий с западо-северо-запада</td>\n",
              "      <td>1</td>\n",
              "      <td>NaN</td>\n",
              "      <td>NaN</td>\n",
              "      <td>100%.</td>\n",
              "      <td></td>\n",
              "      <td>NaN</td>\n",
              "      <td>NaN</td>\n",
              "      <td>NaN</td>\n",
              "      <td>NaN</td>\n",
              "      <td>Слоисто-кучевые, образовавшиеся не из кучевых.</td>\n",
              "      <td>100%.</td>\n",
              "      <td>600-1000</td>\n",
              "      <td>NaN</td>\n",
              "      <td>NaN</td>\n",
              "      <td>NaN</td>\n",
              "      <td>-6.5</td>\n",
              "      <td>Следы осадков</td>\n",
              "      <td>12.0</td>\n",
              "      <td>NaN</td>\n",
              "      <td>NaN</td>\n",
              "      <td>NaN</td>\n",
              "      <td>NaN</td>\n",
              "      <td>760.7</td>\n",
              "    </tr>\n",
              "    <tr>\n",
              "      <th>2020-01-01 15:00:00</th>\n",
              "      <td>01.01.2020 15:00</td>\n",
              "      <td>-2.3</td>\n",
              "      <td>743.8</td>\n",
              "      <td>758.8</td>\n",
              "      <td>1.4</td>\n",
              "      <td>71.0</td>\n",
              "      <td>Ветер, дующий с северо-северо-запада</td>\n",
              "      <td>2</td>\n",
              "      <td>NaN</td>\n",
              "      <td>NaN</td>\n",
              "      <td>50%.</td>\n",
              "      <td>Облака в целом рассеиваются или становятся мен...</td>\n",
              "      <td>Ливень (ливни).</td>\n",
              "      <td>Облака покрывали более половины неба в течение...</td>\n",
              "      <td>NaN</td>\n",
              "      <td>NaN</td>\n",
              "      <td>Слоисто-кучевые, образовавшиеся не из кучевых.</td>\n",
              "      <td>50%.</td>\n",
              "      <td>600-1000</td>\n",
              "      <td>Высококучевых, высокослоистых или слоисто-дожд...</td>\n",
              "      <td>Перистых, перисто-кучевых или перисто-слоистых...</td>\n",
              "      <td>10.0</td>\n",
              "      <td>-6.9</td>\n",
              "      <td>NaN</td>\n",
              "      <td>NaN</td>\n",
              "      <td>NaN</td>\n",
              "      <td>NaN</td>\n",
              "      <td>NaN</td>\n",
              "      <td>NaN</td>\n",
              "      <td>759.3</td>\n",
              "    </tr>\n",
              "    <tr>\n",
              "      <th>2020-01-01 12:00:00</th>\n",
              "      <td>01.01.2020 12:00</td>\n",
              "      <td>-2.0</td>\n",
              "      <td>742.4</td>\n",
              "      <td>757.3</td>\n",
              "      <td>3.4</td>\n",
              "      <td>66.0</td>\n",
              "      <td>Ветер, дующий с севера</td>\n",
              "      <td>3</td>\n",
              "      <td>NaN</td>\n",
              "      <td>11.0</td>\n",
              "      <td>90  или более, но не 100%</td>\n",
              "      <td>Облака в целом образовывались или развивались.</td>\n",
              "      <td>Ливень (ливни).</td>\n",
              "      <td>Облака покрывали более половины неба в течение...</td>\n",
              "      <td>NaN</td>\n",
              "      <td>NaN</td>\n",
              "      <td>Слоисто-кучевые, образовавшиеся не из кучевых.</td>\n",
              "      <td>90  или более, но не 100%</td>\n",
              "      <td>600-1000</td>\n",
              "      <td>Высококучевых, высокослоистых или слоисто-дожд...</td>\n",
              "      <td>Перистых, перисто-кучевых или перисто-слоистых...</td>\n",
              "      <td>10.0</td>\n",
              "      <td>-7.5</td>\n",
              "      <td>NaN</td>\n",
              "      <td>NaN</td>\n",
              "      <td>NaN</td>\n",
              "      <td>NaN</td>\n",
              "      <td>NaN</td>\n",
              "      <td>NaN</td>\n",
              "      <td>757.8</td>\n",
              "    </tr>\n",
              "    <tr>\n",
              "      <th>2020-01-01 09:00:00</th>\n",
              "      <td>01.01.2020 09:00</td>\n",
              "      <td>0.0</td>\n",
              "      <td>739.0</td>\n",
              "      <td>753.7</td>\n",
              "      <td>3.6</td>\n",
              "      <td>85.0</td>\n",
              "      <td>Ветер, дующий с северо-северо-запада</td>\n",
              "      <td>3</td>\n",
              "      <td>NaN</td>\n",
              "      <td>10.0</td>\n",
              "      <td>100%.</td>\n",
              "      <td>Состояние неба в общем не изменилось.</td>\n",
              "      <td>Ливень (ливни).</td>\n",
              "      <td>Облака покрывали более половины неба в течение...</td>\n",
              "      <td>-0.1</td>\n",
              "      <td>NaN</td>\n",
              "      <td>Слоисто-кучевые, образовавшиеся не из кучевых.</td>\n",
              "      <td>100%.</td>\n",
              "      <td>600-1000</td>\n",
              "      <td>NaN</td>\n",
              "      <td>NaN</td>\n",
              "      <td>10.0</td>\n",
              "      <td>-2.3</td>\n",
              "      <td>0.9</td>\n",
              "      <td>12.0</td>\n",
              "      <td>NaN</td>\n",
              "      <td>NaN</td>\n",
              "      <td>Ровный слой слежавшегося или мокрого снега пок...</td>\n",
              "      <td>1</td>\n",
              "      <td>754.2</td>\n",
              "    </tr>\n",
              "    <tr>\n",
              "      <th>...</th>\n",
              "      <td>...</td>\n",
              "      <td>...</td>\n",
              "      <td>...</td>\n",
              "      <td>...</td>\n",
              "      <td>...</td>\n",
              "      <td>...</td>\n",
              "      <td>...</td>\n",
              "      <td>...</td>\n",
              "      <td>...</td>\n",
              "      <td>...</td>\n",
              "      <td>...</td>\n",
              "      <td>...</td>\n",
              "      <td>...</td>\n",
              "      <td>...</td>\n",
              "      <td>...</td>\n",
              "      <td>...</td>\n",
              "      <td>...</td>\n",
              "      <td>...</td>\n",
              "      <td>...</td>\n",
              "      <td>...</td>\n",
              "      <td>...</td>\n",
              "      <td>...</td>\n",
              "      <td>...</td>\n",
              "      <td>...</td>\n",
              "      <td>...</td>\n",
              "      <td>...</td>\n",
              "      <td>...</td>\n",
              "      <td>...</td>\n",
              "      <td>...</td>\n",
              "      <td>...</td>\n",
              "    </tr>\n",
              "    <tr>\n",
              "      <th>2019-01-01 15:00:00</th>\n",
              "      <td>01.01.2019 15:00</td>\n",
              "      <td>-3.8</td>\n",
              "      <td>744.9</td>\n",
              "      <td>760.0</td>\n",
              "      <td>-2.5</td>\n",
              "      <td>85.0</td>\n",
              "      <td>Ветер, дующий с юга</td>\n",
              "      <td>2</td>\n",
              "      <td>NaN</td>\n",
              "      <td>NaN</td>\n",
              "      <td>100%.</td>\n",
              "      <td></td>\n",
              "      <td>NaN</td>\n",
              "      <td>NaN</td>\n",
              "      <td>NaN</td>\n",
              "      <td>NaN</td>\n",
              "      <td>Слоистые разорванные или кучевые разорванные о...</td>\n",
              "      <td>100%.</td>\n",
              "      <td>300-600</td>\n",
              "      <td>NaN</td>\n",
              "      <td>NaN</td>\n",
              "      <td>10.0</td>\n",
              "      <td>-6.0</td>\n",
              "      <td>NaN</td>\n",
              "      <td>NaN</td>\n",
              "      <td>NaN</td>\n",
              "      <td>NaN</td>\n",
              "      <td>NaN</td>\n",
              "      <td>NaN</td>\n",
              "      <td>760.5</td>\n",
              "    </tr>\n",
              "    <tr>\n",
              "      <th>2019-01-01 12:00:00</th>\n",
              "      <td>01.01.2019 12:00</td>\n",
              "      <td>-4.0</td>\n",
              "      <td>747.4</td>\n",
              "      <td>762.4</td>\n",
              "      <td>-2.4</td>\n",
              "      <td>86.0</td>\n",
              "      <td>Ветер, дующий с юга</td>\n",
              "      <td>2</td>\n",
              "      <td>NaN</td>\n",
              "      <td>NaN</td>\n",
              "      <td>100%.</td>\n",
              "      <td>Дымка.</td>\n",
              "      <td>Облака покрывали более половины неба в течение...</td>\n",
              "      <td>Облака покрывали более половины неба в течение...</td>\n",
              "      <td>NaN</td>\n",
              "      <td>NaN</td>\n",
              "      <td>Слоистые разорванные или кучевые разорванные о...</td>\n",
              "      <td>100%.</td>\n",
              "      <td>300-600</td>\n",
              "      <td>NaN</td>\n",
              "      <td>NaN</td>\n",
              "      <td>4.0</td>\n",
              "      <td>-6.0</td>\n",
              "      <td>NaN</td>\n",
              "      <td>NaN</td>\n",
              "      <td>NaN</td>\n",
              "      <td>NaN</td>\n",
              "      <td>NaN</td>\n",
              "      <td>NaN</td>\n",
              "      <td>762.9</td>\n",
              "    </tr>\n",
              "    <tr>\n",
              "      <th>2019-01-01 09:00:00</th>\n",
              "      <td>01.01.2019 09:00</td>\n",
              "      <td>-4.6</td>\n",
              "      <td>749.8</td>\n",
              "      <td>764.9</td>\n",
              "      <td>-1.7</td>\n",
              "      <td>90.0</td>\n",
              "      <td>Ветер, дующий с юго-юго-востока</td>\n",
              "      <td>2</td>\n",
              "      <td>NaN</td>\n",
              "      <td>NaN</td>\n",
              "      <td>100%.</td>\n",
              "      <td>Дымка.</td>\n",
              "      <td>Облака покрывали более половины неба в течение...</td>\n",
              "      <td>Облака покрывали более половины неба в течение...</td>\n",
              "      <td>-4.8</td>\n",
              "      <td>NaN</td>\n",
              "      <td>Слоистые разорванные или кучевые разорванные о...</td>\n",
              "      <td>100%.</td>\n",
              "      <td>300-600</td>\n",
              "      <td>NaN</td>\n",
              "      <td>NaN</td>\n",
              "      <td>4.0</td>\n",
              "      <td>-6.0</td>\n",
              "      <td>Осадков нет</td>\n",
              "      <td>12.0</td>\n",
              "      <td>NaN</td>\n",
              "      <td>NaN</td>\n",
              "      <td>Ровный слой сухого рассыпчатого снега покрывае...</td>\n",
              "      <td>24</td>\n",
              "      <td>765.4</td>\n",
              "    </tr>\n",
              "    <tr>\n",
              "      <th>2019-01-01 06:00:00</th>\n",
              "      <td>01.01.2019 06:00</td>\n",
              "      <td>-4.4</td>\n",
              "      <td>751.5</td>\n",
              "      <td>766.6</td>\n",
              "      <td>-1.8</td>\n",
              "      <td>93.0</td>\n",
              "      <td>Ветер, дующий с юга</td>\n",
              "      <td>1</td>\n",
              "      <td>NaN</td>\n",
              "      <td>NaN</td>\n",
              "      <td>100%.</td>\n",
              "      <td>Дымка.</td>\n",
              "      <td>Облака покрывали более половины неба в течение...</td>\n",
              "      <td>Облака покрывали более половины неба в течение...</td>\n",
              "      <td>-4.8</td>\n",
              "      <td>NaN</td>\n",
              "      <td>Слоисто-кучевые, образовавшиеся не из кучевых.</td>\n",
              "      <td>100%.</td>\n",
              "      <td>300-600</td>\n",
              "      <td>NaN</td>\n",
              "      <td>NaN</td>\n",
              "      <td>NaN</td>\n",
              "      <td>-5.4</td>\n",
              "      <td>0.4</td>\n",
              "      <td>12.0</td>\n",
              "      <td>NaN</td>\n",
              "      <td>NaN</td>\n",
              "      <td>NaN</td>\n",
              "      <td>NaN</td>\n",
              "      <td>767.1</td>\n",
              "    </tr>\n",
              "    <tr>\n",
              "      <th>2019-01-01 03:00:00</th>\n",
              "      <td>01.01.2019 03:00</td>\n",
              "      <td>-4.4</td>\n",
              "      <td>753.3</td>\n",
              "      <td>768.5</td>\n",
              "      <td>-0.8</td>\n",
              "      <td>86.0</td>\n",
              "      <td>Ветер, дующий с юга</td>\n",
              "      <td>1</td>\n",
              "      <td>NaN</td>\n",
              "      <td>NaN</td>\n",
              "      <td>100%.</td>\n",
              "      <td>Дымка.</td>\n",
              "      <td>Облака покрывали более половины неба в течение...</td>\n",
              "      <td>Облака покрывали более половины неба в течение...</td>\n",
              "      <td>NaN</td>\n",
              "      <td>NaN</td>\n",
              "      <td>Слоисто-кучевые, образовавшиеся не из кучевых.</td>\n",
              "      <td>100%.</td>\n",
              "      <td>600-1000</td>\n",
              "      <td>NaN</td>\n",
              "      <td>NaN</td>\n",
              "      <td>NaN</td>\n",
              "      <td>-6.4</td>\n",
              "      <td>NaN</td>\n",
              "      <td>NaN</td>\n",
              "      <td>NaN</td>\n",
              "      <td>NaN</td>\n",
              "      <td>NaN</td>\n",
              "      <td>NaN</td>\n",
              "      <td>769.0</td>\n",
              "    </tr>\n",
              "  </tbody>\n",
              "</table>\n",
              "<p>2926 rows × 30 columns</p>\n",
              "</div>"
            ],
            "text/plain": [
              "                    Местное время в Москве (ВДНХ)    T  ...  sss  new_column\n",
              "date                                                    ...                 \n",
              "2020-01-01 21:00:00              01.01.2020 21:00 -1.9  ...  NaN       760.9\n",
              "2020-01-01 18:00:00              01.01.2020 18:00 -3.0  ...  NaN       760.7\n",
              "2020-01-01 15:00:00              01.01.2020 15:00 -2.3  ...  NaN       759.3\n",
              "2020-01-01 12:00:00              01.01.2020 12:00 -2.0  ...  NaN       757.8\n",
              "2020-01-01 09:00:00              01.01.2020 09:00  0.0  ...    1       754.2\n",
              "...                                           ...  ...  ...  ...         ...\n",
              "2019-01-01 15:00:00              01.01.2019 15:00 -3.8  ...  NaN       760.5\n",
              "2019-01-01 12:00:00              01.01.2019 12:00 -4.0  ...  NaN       762.9\n",
              "2019-01-01 09:00:00              01.01.2019 09:00 -4.6  ...   24       765.4\n",
              "2019-01-01 06:00:00              01.01.2019 06:00 -4.4  ...  NaN       767.1\n",
              "2019-01-01 03:00:00              01.01.2019 03:00 -4.4  ...  NaN       769.0\n",
              "\n",
              "[2926 rows x 30 columns]"
            ]
          },
          "metadata": {
            "tags": []
          },
          "execution_count": 62
        }
      ]
    },
    {
      "cell_type": "code",
      "metadata": {
        "id": "4pGZGROyQuGV",
        "colab_type": "code",
        "colab": {}
      },
      "source": [
        ""
      ],
      "execution_count": null,
      "outputs": []
    },
    {
      "cell_type": "code",
      "metadata": {
        "id": "CTDA8L4lORRX",
        "colab_type": "code",
        "colab": {}
      },
      "source": [
        "# Домашка на первый день (не будет проверятся)\n",
        "# Скомбинировать код выше и сформировать табличку с 1.1.2016 по 31.12.2018"
      ],
      "execution_count": null,
      "outputs": []
    },
    {
      "cell_type": "code",
      "metadata": {
        "id": "8dHRL_4sO3cI",
        "colab_type": "code",
        "colab": {}
      },
      "source": [
        "# TG chat https://t.me/joinchat/Di59WVMky86o-9bM9tA_Cg Удачи!!! "
      ],
      "execution_count": null,
      "outputs": []
    },
    {
      "cell_type": "markdown",
      "metadata": {
        "id": "-erWgX1TQ9R6",
        "colab_type": "text"
      },
      "source": [
        "TG chat https://t.me/joinchat/Di59WVMky86o-9bM9tA_Cg Удачи!!! "
      ]
    },
    {
      "cell_type": "markdown",
      "metadata": {
        "id": "63v6NzCfQ72D",
        "colab_type": "text"
      },
      "source": [
        ""
      ]
    }
  ]
}